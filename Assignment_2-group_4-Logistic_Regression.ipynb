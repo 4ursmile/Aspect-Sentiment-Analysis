{
 "cells": [
  {
   "attachments": {},
   "cell_type": "markdown",
   "metadata": {},
   "source": [
    "# Logistic Regression\n",
    "## Aspect sentiment anlysis (Vietnamese)\n",
    "### Group 4\n",
    "--- \n",
    "### Author"
   ]
  },
  {
   "attachments": {},
   "cell_type": "markdown",
   "metadata": {},
   "source": [
    "## import requirement library"
   ]
  },
  {
   "cell_type": "code",
   "execution_count": 3,
   "metadata": {},
   "outputs": [],
   "source": [
    "from underthesea import sent_tokenize\n",
    "import pandas as pd\n",
    "from pyvi import ViTokenizer\n",
    "import re\n",
    "import matplotlib.pyplot as plt\n",
    "import seaborn as sns\n",
    "import numpy as np\n",
    "sns.set_style('whitegrid')\n",
    "%matplotlib inline      "
   ]
  },
  {
   "attachments": {},
   "cell_type": "markdown",
   "metadata": {},
   "source": [
    "## Data-transformer class\n",
    "\n",
    "this class allows us work with specific dataset in this case. You can read some data file in same repo to understand it's structure\n",
    "\n",
    "---\n",
    "### Descibe data\n",
    "in each record \n",
    "* first line is number of record, it's start by # follow a number.\n",
    "* second line is text.\n",
    "* third line is aspect sentiment analyst has structure like {ENTITY#ATTRIBUTE, SENTIMENT} "
   ]
  },
  {
   "cell_type": "code",
   "execution_count": 4,
   "metadata": {},
   "outputs": [],
   "source": [
    "class Data_transformer:\n",
    "    def __init__(self) -> None:\n",
    "        self.__tokenizer = ViTokenizer\n",
    "        pass\n",
    "    def __removepunc(self, text):\n",
    "        \n",
    "        return re.sub(r'[^\\w\\s]','',text)\n",
    "    def __tokenize(self, text):\n",
    "        return self.__tokenizer.tokenize(text)\n",
    "    def text_preprocessing(self, text):\n",
    "        \"\"\"_summary_\n",
    "            Preprocessing function, this function include three step:\n",
    "            * tokenize text (for Vietnamese),\n",
    "            * remove punctuation,\n",
    "            * lower_case text.\n",
    "            * return result\n",
    "        \n",
    "        Args:\n",
    "            text (string): raw test\n",
    "\n",
    "        Returns:\n",
    "            string: text's preprocessed\n",
    "        \"\"\"\n",
    "        text_token = self.__tokenize(text)\n",
    "        text_remove_punc = self.__removepunc(text_token)\n",
    "        return text_remove_punc.lower()\n",
    "    def read_text_only(self, filename):\n",
    "        \"\"\"_summary_\n",
    "            This function will read only text in raw .txt file\n",
    "       \n",
    "        Args:\n",
    "            filename (string): path to data file\n",
    "\n",
    "        Returns:\n",
    "            list: list of raw text\n",
    "        \"\"\"\n",
    "        texts = []\n",
    "        with open(filename, 'r', encoding='utf-8') as f:\n",
    "            lines = filter(None, (line.rstrip() for line in f))\n",
    "            for line in lines:\n",
    "                line = line.strip()\n",
    "                if line.startswith('#'):\n",
    "                    pass\n",
    "                elif line.startswith('{') and line.endswith('}'):\n",
    "                    pass\n",
    "                else:\n",
    "                    texts.append(line)\n",
    "        return texts\n",
    "    def load_data(self, filename):\n",
    "        \"\"\"_summary_\n",
    "            This function return data represent in 2d list.\n",
    "            it has exactly 4 column incude: text, sentiment, entity and attribute. \n",
    "            *Remember each text will be seperated into many sentences.\n",
    "        \n",
    "        Args:\n",
    "            filename (string): path to data\n",
    "\n",
    "        Returns:\n",
    "            list: 2d list for all record\n",
    "        \"\"\"\n",
    "        data = []\n",
    "        with open(filename, 'r', encoding='utf-8') as f:\n",
    "            index = 0\n",
    "            texts = []\n",
    "            for line in f:\n",
    "                line = line.strip()\n",
    "                if line.startswith('#'):\n",
    "                    index = int(line[1:])\n",
    "                    pass\n",
    "                elif line.startswith('{') and line.endswith('}'):\n",
    "                    aspects = re.findall(r'{(.+?),\\s*(.+?)}', line)\n",
    "                    min_len = len(aspects) if len(aspects)<len(texts) else len(texts) \n",
    "                    for i in range(min_len):\n",
    "                        aspect, sentiment = aspects[i]\n",
    "                        text = texts[i]\n",
    "                        s_attribute = aspect.split('#')\n",
    "                        data_line = [self.text_preprocessing(text), sentiment, s_attribute[0], s_attribute[1]]\n",
    "                        data.append(data_line) \n",
    "                else:\n",
    "                    texts = sent_tokenize(line)\n",
    "        return data\n",
    "    def load_to_df(self, filename, columns = ['text', 'label', 'entity', 'attribute']):\n",
    "        \"\"\"_summary_\n",
    "        \n",
    "            This function return pandas dataframe.\n",
    "            it has exactly 4 column incude: text, sentiment, entity and attribute. \n",
    "            *Remember each text will be seperated into many sentences.\n",
    "        \n",
    "        Args:\n",
    "            filename (string): path to data\n",
    "            columns (list): list of column's name.\n",
    "        Returns:\n",
    "            list: pandas dataframe\n",
    "        \"\"\"\n",
    "        data = self.load_data(filename)\n",
    "        df = pd.DataFrame(data=data, columns=columns)\n",
    "        return df\n",
    "    def text2feature(self, text):\n",
    "        \"\"\"_summary_\n",
    "            This function will break a normal text into list of sentences and preprocess each sentences\n",
    "        \n",
    "        Args:\n",
    "            text (string): raw text\n",
    "\n",
    "        Returns:\n",
    "            list: list of sentences's preprocessed\n",
    "        \"\"\"\n",
    "        list_f = []\n",
    "        list_text = sent_tokenize(text)\n",
    "        for text in list_text:\n",
    "            list_f.append(self.text_preprocessing(text))\n",
    "        return list_f"
   ]
  },
  {
   "attachments": {},
   "cell_type": "markdown",
   "metadata": {},
   "source": [
    "## Logistic Regression model\n",
    "This class is multinomial Logistic regression model (aspect-sentiment_analyst approach) use bag of word as features \n",
    "\n",
    "**Note** that this class work for this data inclute 3 layer ENTITY, ATRIBUTE and SENTIMENT"
   ]
  },
  {
   "cell_type": "code",
   "execution_count": 137,
   "metadata": {},
   "outputs": [],
   "source": [
    "from sklearn.feature_extraction.text import CountVectorizer\n",
    "from sklearn.feature_extraction.text import TfidfTransformer\n",
    "from sklearn.linear_model import LogisticRegression\n",
    "from sklearn.preprocessing import StandardScaler, MaxAbsScaler\n",
    "from sklearn.pipeline import Pipeline\n",
    "from sklearn.metrics import classification_report\n",
    "class Aspect_logreg_model:\n",
    "    def __init__(self) -> None:\n",
    "        self.data_trans = Data_transformer()\n",
    "        self.pineline = Pipeline([\n",
    "            ('cv', CountVectorizer()),\n",
    "            ('tf', TfidfTransformer()),\n",
    "            ('nb', LogisticRegression())\n",
    "        ])\n",
    "        pass\n",
    "    def reversed_normal_scale(self, lis):\n",
    "        arr = 1 - lis/np.sum(lis)\n",
    "        return arr/np.sum(arr)\n",
    "    def fit3layer(self, df:pd.DataFrame, x_index = 0, y_indexes = [1,2,3]):\n",
    "        \"\"\"_summary_\n",
    "            ***IMPORTANT***\n",
    "            This is a main fit function to work for aspect sentiment analysis, it will fit for all 3-layer.\n",
    "            Wanna predict, evaluate each aspect? Pls call .pipeline_<element>.<attribute> you want to work. \n",
    "            Note that you have to call this function before you want to use these attribute.\n",
    "            <element> include [sen, entity, attribute]\n",
    "        \n",
    "        Args:\n",
    "            df: pandas.DataFrame: a dataframe to fit for this model, you dont need to seperate into features and label, just pass dataframe, it auto do it for you.\n",
    "            ***IMPORTANT***\n",
    "            Dataframe must be a result of Data_transformer class\n",
    "            x_index: int: index of text (must integer, no matter what index you use for dataframe, pass position of text series), we will create feature for you . \n",
    "            y_indexes: list<int>: List of classs index (must integer, no matter what index you use for dataframe, pass position of text series)\n",
    "        \"\"\"\n",
    "        self.list_of_name = df.columns\n",
    "        self.x_index = x_index\n",
    "        self.y_index = y_indexes\n",
    "        X = df[self.list_of_name[x_index]]\n",
    "        self.models = []\n",
    "\n",
    "        for label_index in y_indexes:\n",
    "             self.models.append(\n",
    "                  Pipeline([\n",
    "                        ('cv', CountVectorizer()),\n",
    "                        ('tf', TfidfTransformer()),\n",
    "                        ('sd', StandardScaler(with_mean=False)),\n",
    "                       # ('mas', MaxAbsScaler()),\n",
    "                        ('logreg', LogisticRegression(verbose=2, penalty='l2', solver='sag'))\n",
    "                ])\n",
    "             )\n",
    "        for k in range(len(y_indexes)):\n",
    "             self.models[k].fit(X, df[self.list_of_name[y_indexes[k]]])\n",
    "        pass \n",
    "    def fit_mono(self, X_, y_)->None:\n",
    "        \"\"\"_summary_\n",
    "            Fit for specific class you want, if you want use this model simply call .pipeline.<attribute you want>\n",
    "        \n",
    "        Args:\n",
    "            X_ (_type_): _description_\n",
    "            y_ (_type_): _description_\n",
    "        \"\"\"\n",
    "        X = X_\n",
    "        y = y_ \n",
    "        self.pineline.fit(X, y)\n",
    "        pass\n",
    "    def evaluate(self, df)->None:\n",
    "        \"\"\"_summary_\n",
    "        This will evalute 3 layer inclute sentiment, entity and attribute\n",
    "        \n",
    "        Args:\n",
    "            dataframe: test dataframe\n",
    "        \"\"\"\n",
    "        X = df[self.list_of_name[self.x_index]]\n",
    "        for k in range(len(self.y_index)):\n",
    "             y_pred = self.models[k].predict(X)\n",
    "             y_true = df[self.list_of_name[self.y_index[k]]]\n",
    "             print(classification_report(y_true=y_true, y_pred=y_pred, zero_division=1))\n",
    "    def specific_class_report(self, X, y, model):\n",
    "            y_pred = model.predict(X)\n",
    "            print(classification_report(y, y_pred))\n",
    "    def detail_predict(self, text):\n",
    "        \"\"\"_summary_\n",
    "            This function will predict aspect sentiment for a text, include entity, attribute and sentimet. \n",
    "            Structure of predict will be like this {ENTITY#ATTRIBUTE, SENTIMENT}\n",
    "        \n",
    "        Args:\n",
    "            text (string): text you want predict\n",
    "\n",
    "        Returns:\n",
    "            aspect-sentiment anlyst: list of sentiment-analys have structure like i describe above\n",
    "        \"\"\"\n",
    "        aspect_l = []\n",
    "        texts = self.data_trans.text2feature(text)\n",
    "        for text in texts:\n",
    "            entity = self.models[1].predict([text])\n",
    "            attr = self.models[2].predict([text])\n",
    "            sen = self.models[0].predict([text])\n",
    "            aspect_l.append(f'{{{entity[0]}#{attr[0]}, {sen[0]}}}')\n",
    "        return aspect_l"
   ]
  },
  {
   "attachments": {},
   "cell_type": "markdown",
   "metadata": {},
   "source": [
    "## Hotel dataset \n",
    "Work with hotel dataset"
   ]
  },
  {
   "cell_type": "code",
   "execution_count": null,
   "metadata": {},
   "outputs": [],
   "source": [
    "data_trans = Data_transformer()\n",
    "df = data_trans.load_to_df('data_hotel_train.txt')\n",
    "df.head(5)"
   ]
  },
  {
   "cell_type": "code",
   "execution_count": 136,
   "metadata": {},
   "outputs": [
    {
     "data": {
      "text/plain": [
       "[3243, 1873, 1140, 876, 826, 421, 272, 71]"
      ]
     },
     "execution_count": 136,
     "metadata": {},
     "output_type": "execute_result"
    }
   ],
   "source": [
    "df['attribute'].value_counts().to_list()"
   ]
  },
  {
   "attachments": {},
   "cell_type": "markdown",
   "metadata": {},
   "source": [
    "### Data exploration"
   ]
  },
  {
   "cell_type": "code",
   "execution_count": null,
   "metadata": {},
   "outputs": [],
   "source": [
    "sns.countplot(df,x='label')\n",
    "plt.title(\"Count sentiment in hotel dataset\")\n",
    "plt.show()"
   ]
  },
  {
   "cell_type": "code",
   "execution_count": null,
   "metadata": {},
   "outputs": [],
   "source": [
    "plt.figure(figsize=(12,6))\n",
    "sns.countplot(df,x='entity')\n",
    "plt.title(\"Count entitys in hotel dataset\")\n",
    "plt.show()"
   ]
  },
  {
   "cell_type": "code",
   "execution_count": null,
   "metadata": {},
   "outputs": [],
   "source": [
    "plt.figure(figsize=(12,6))\n",
    "sns.countplot(df,x='attribute')\n",
    "plt.title(\"Count attribute in hotel dataset\")\n",
    "plt.show()"
   ]
  },
  {
   "attachments": {},
   "cell_type": "markdown",
   "metadata": {},
   "source": [
    "We find that there are  unblanced label on all sentiment, attribute and entity"
   ]
  },
  {
   "attachments": {},
   "cell_type": "markdown",
   "metadata": {},
   "source": [
    "### Fit model"
   ]
  },
  {
   "cell_type": "code",
   "execution_count": 138,
   "metadata": {},
   "outputs": [
    {
     "name": "stderr",
     "output_type": "stream",
     "text": [
      "[Parallel(n_jobs=1)]: Using backend SequentialBackend with 1 concurrent workers.\n"
     ]
    },
    {
     "ename": "ValueError",
     "evalue": "sample_weight.shape == (3,), expected (8722,)!",
     "output_type": "error",
     "traceback": [
      "\u001b[1;31m---------------------------------------------------------------------------\u001b[0m",
      "\u001b[1;31mValueError\u001b[0m                                Traceback (most recent call last)",
      "Cell \u001b[1;32mIn[138], line 2\u001b[0m\n\u001b[0;32m      1\u001b[0m model \u001b[39m=\u001b[39m Aspect_logreg_model()\n\u001b[1;32m----> 2\u001b[0m model\u001b[39m.\u001b[39;49mfit3layer(df)\n",
      "Cell \u001b[1;32mIn[137], line 54\u001b[0m, in \u001b[0;36mAspect_logreg_model.fit3layer\u001b[1;34m(self, df, x_index, y_indexes)\u001b[0m\n\u001b[0;32m     44\u001b[0m      \u001b[39mself\u001b[39m\u001b[39m.\u001b[39mmodels\u001b[39m.\u001b[39mappend(\n\u001b[0;32m     45\u001b[0m           Pipeline([\n\u001b[0;32m     46\u001b[0m                 (\u001b[39m'\u001b[39m\u001b[39mcv\u001b[39m\u001b[39m'\u001b[39m, CountVectorizer()),\n\u001b[1;32m   (...)\u001b[0m\n\u001b[0;32m     51\u001b[0m         ])\n\u001b[0;32m     52\u001b[0m      )\n\u001b[0;32m     53\u001b[0m \u001b[39mfor\u001b[39;00m k \u001b[39min\u001b[39;00m \u001b[39mrange\u001b[39m(\u001b[39mlen\u001b[39m(y_indexes)):\n\u001b[1;32m---> 54\u001b[0m      \u001b[39mself\u001b[39;49m\u001b[39m.\u001b[39;49mmodels[k]\u001b[39m.\u001b[39;49mfit(X, df[\u001b[39mself\u001b[39;49m\u001b[39m.\u001b[39;49mlist_of_name[y_indexes[k]]], logreg__sample_weight \u001b[39m=\u001b[39;49m sample_weights[k])\n\u001b[0;32m     55\u001b[0m \u001b[39mpass\u001b[39;00m\n",
      "File \u001b[1;32m~\\AppData\\Local\\Packages\\PythonSoftwareFoundation.Python.3.10_qbz5n2kfra8p0\\LocalCache\\local-packages\\Python310\\site-packages\\sklearn\\pipeline.py:405\u001b[0m, in \u001b[0;36mPipeline.fit\u001b[1;34m(self, X, y, **fit_params)\u001b[0m\n\u001b[0;32m    403\u001b[0m     \u001b[39mif\u001b[39;00m \u001b[39mself\u001b[39m\u001b[39m.\u001b[39m_final_estimator \u001b[39m!=\u001b[39m \u001b[39m\"\u001b[39m\u001b[39mpassthrough\u001b[39m\u001b[39m\"\u001b[39m:\n\u001b[0;32m    404\u001b[0m         fit_params_last_step \u001b[39m=\u001b[39m fit_params_steps[\u001b[39mself\u001b[39m\u001b[39m.\u001b[39msteps[\u001b[39m-\u001b[39m\u001b[39m1\u001b[39m][\u001b[39m0\u001b[39m]]\n\u001b[1;32m--> 405\u001b[0m         \u001b[39mself\u001b[39m\u001b[39m.\u001b[39m_final_estimator\u001b[39m.\u001b[39mfit(Xt, y, \u001b[39m*\u001b[39m\u001b[39m*\u001b[39mfit_params_last_step)\n\u001b[0;32m    407\u001b[0m \u001b[39mreturn\u001b[39;00m \u001b[39mself\u001b[39m\n",
      "File \u001b[1;32m~\\AppData\\Local\\Packages\\PythonSoftwareFoundation.Python.3.10_qbz5n2kfra8p0\\LocalCache\\local-packages\\Python310\\site-packages\\sklearn\\linear_model\\_logistic.py:1291\u001b[0m, in \u001b[0;36mLogisticRegression.fit\u001b[1;34m(self, X, y, sample_weight)\u001b[0m\n\u001b[0;32m   1288\u001b[0m \u001b[39melse\u001b[39;00m:\n\u001b[0;32m   1289\u001b[0m     n_threads \u001b[39m=\u001b[39m \u001b[39m1\u001b[39m\n\u001b[1;32m-> 1291\u001b[0m fold_coefs_ \u001b[39m=\u001b[39m Parallel(n_jobs\u001b[39m=\u001b[39;49m\u001b[39mself\u001b[39;49m\u001b[39m.\u001b[39;49mn_jobs, verbose\u001b[39m=\u001b[39;49m\u001b[39mself\u001b[39;49m\u001b[39m.\u001b[39;49mverbose, prefer\u001b[39m=\u001b[39;49mprefer)(\n\u001b[0;32m   1292\u001b[0m     path_func(\n\u001b[0;32m   1293\u001b[0m         X,\n\u001b[0;32m   1294\u001b[0m         y,\n\u001b[0;32m   1295\u001b[0m         pos_class\u001b[39m=\u001b[39;49mclass_,\n\u001b[0;32m   1296\u001b[0m         Cs\u001b[39m=\u001b[39;49m[C_],\n\u001b[0;32m   1297\u001b[0m         l1_ratio\u001b[39m=\u001b[39;49m\u001b[39mself\u001b[39;49m\u001b[39m.\u001b[39;49ml1_ratio,\n\u001b[0;32m   1298\u001b[0m         fit_intercept\u001b[39m=\u001b[39;49m\u001b[39mself\u001b[39;49m\u001b[39m.\u001b[39;49mfit_intercept,\n\u001b[0;32m   1299\u001b[0m         tol\u001b[39m=\u001b[39;49m\u001b[39mself\u001b[39;49m\u001b[39m.\u001b[39;49mtol,\n\u001b[0;32m   1300\u001b[0m         verbose\u001b[39m=\u001b[39;49m\u001b[39mself\u001b[39;49m\u001b[39m.\u001b[39;49mverbose,\n\u001b[0;32m   1301\u001b[0m         solver\u001b[39m=\u001b[39;49msolver,\n\u001b[0;32m   1302\u001b[0m         multi_class\u001b[39m=\u001b[39;49mmulti_class,\n\u001b[0;32m   1303\u001b[0m         max_iter\u001b[39m=\u001b[39;49m\u001b[39mself\u001b[39;49m\u001b[39m.\u001b[39;49mmax_iter,\n\u001b[0;32m   1304\u001b[0m         class_weight\u001b[39m=\u001b[39;49m\u001b[39mself\u001b[39;49m\u001b[39m.\u001b[39;49mclass_weight,\n\u001b[0;32m   1305\u001b[0m         check_input\u001b[39m=\u001b[39;49m\u001b[39mFalse\u001b[39;49;00m,\n\u001b[0;32m   1306\u001b[0m         random_state\u001b[39m=\u001b[39;49m\u001b[39mself\u001b[39;49m\u001b[39m.\u001b[39;49mrandom_state,\n\u001b[0;32m   1307\u001b[0m         coef\u001b[39m=\u001b[39;49mwarm_start_coef_,\n\u001b[0;32m   1308\u001b[0m         penalty\u001b[39m=\u001b[39;49mpenalty,\n\u001b[0;32m   1309\u001b[0m         max_squared_sum\u001b[39m=\u001b[39;49mmax_squared_sum,\n\u001b[0;32m   1310\u001b[0m         sample_weight\u001b[39m=\u001b[39;49msample_weight,\n\u001b[0;32m   1311\u001b[0m         n_threads\u001b[39m=\u001b[39;49mn_threads,\n\u001b[0;32m   1312\u001b[0m     )\n\u001b[0;32m   1313\u001b[0m     \u001b[39mfor\u001b[39;49;00m class_, warm_start_coef_ \u001b[39min\u001b[39;49;00m \u001b[39mzip\u001b[39;49m(classes_, warm_start_coef)\n\u001b[0;32m   1314\u001b[0m )\n\u001b[0;32m   1316\u001b[0m fold_coefs_, _, n_iter_ \u001b[39m=\u001b[39m \u001b[39mzip\u001b[39m(\u001b[39m*\u001b[39mfold_coefs_)\n\u001b[0;32m   1317\u001b[0m \u001b[39mself\u001b[39m\u001b[39m.\u001b[39mn_iter_ \u001b[39m=\u001b[39m np\u001b[39m.\u001b[39masarray(n_iter_, dtype\u001b[39m=\u001b[39mnp\u001b[39m.\u001b[39mint32)[:, \u001b[39m0\u001b[39m]\n",
      "File \u001b[1;32m~\\AppData\\Local\\Packages\\PythonSoftwareFoundation.Python.3.10_qbz5n2kfra8p0\\LocalCache\\local-packages\\Python310\\site-packages\\sklearn\\utils\\parallel.py:63\u001b[0m, in \u001b[0;36mParallel.__call__\u001b[1;34m(self, iterable)\u001b[0m\n\u001b[0;32m     58\u001b[0m config \u001b[39m=\u001b[39m get_config()\n\u001b[0;32m     59\u001b[0m iterable_with_config \u001b[39m=\u001b[39m (\n\u001b[0;32m     60\u001b[0m     (_with_config(delayed_func, config), args, kwargs)\n\u001b[0;32m     61\u001b[0m     \u001b[39mfor\u001b[39;00m delayed_func, args, kwargs \u001b[39min\u001b[39;00m iterable\n\u001b[0;32m     62\u001b[0m )\n\u001b[1;32m---> 63\u001b[0m \u001b[39mreturn\u001b[39;00m \u001b[39msuper\u001b[39;49m()\u001b[39m.\u001b[39;49m\u001b[39m__call__\u001b[39;49m(iterable_with_config)\n",
      "File \u001b[1;32m~\\AppData\\Local\\Packages\\PythonSoftwareFoundation.Python.3.10_qbz5n2kfra8p0\\LocalCache\\local-packages\\Python310\\site-packages\\joblib\\parallel.py:1085\u001b[0m, in \u001b[0;36mParallel.__call__\u001b[1;34m(self, iterable)\u001b[0m\n\u001b[0;32m   1076\u001b[0m \u001b[39mtry\u001b[39;00m:\n\u001b[0;32m   1077\u001b[0m     \u001b[39m# Only set self._iterating to True if at least a batch\u001b[39;00m\n\u001b[0;32m   1078\u001b[0m     \u001b[39m# was dispatched. In particular this covers the edge\u001b[39;00m\n\u001b[1;32m   (...)\u001b[0m\n\u001b[0;32m   1082\u001b[0m     \u001b[39m# was very quick and its callback already dispatched all the\u001b[39;00m\n\u001b[0;32m   1083\u001b[0m     \u001b[39m# remaining jobs.\u001b[39;00m\n\u001b[0;32m   1084\u001b[0m     \u001b[39mself\u001b[39m\u001b[39m.\u001b[39m_iterating \u001b[39m=\u001b[39m \u001b[39mFalse\u001b[39;00m\n\u001b[1;32m-> 1085\u001b[0m     \u001b[39mif\u001b[39;00m \u001b[39mself\u001b[39;49m\u001b[39m.\u001b[39;49mdispatch_one_batch(iterator):\n\u001b[0;32m   1086\u001b[0m         \u001b[39mself\u001b[39m\u001b[39m.\u001b[39m_iterating \u001b[39m=\u001b[39m \u001b[39mself\u001b[39m\u001b[39m.\u001b[39m_original_iterator \u001b[39mis\u001b[39;00m \u001b[39mnot\u001b[39;00m \u001b[39mNone\u001b[39;00m\n\u001b[0;32m   1088\u001b[0m     \u001b[39mwhile\u001b[39;00m \u001b[39mself\u001b[39m\u001b[39m.\u001b[39mdispatch_one_batch(iterator):\n",
      "File \u001b[1;32m~\\AppData\\Local\\Packages\\PythonSoftwareFoundation.Python.3.10_qbz5n2kfra8p0\\LocalCache\\local-packages\\Python310\\site-packages\\joblib\\parallel.py:901\u001b[0m, in \u001b[0;36mParallel.dispatch_one_batch\u001b[1;34m(self, iterator)\u001b[0m\n\u001b[0;32m    899\u001b[0m     \u001b[39mreturn\u001b[39;00m \u001b[39mFalse\u001b[39;00m\n\u001b[0;32m    900\u001b[0m \u001b[39melse\u001b[39;00m:\n\u001b[1;32m--> 901\u001b[0m     \u001b[39mself\u001b[39;49m\u001b[39m.\u001b[39;49m_dispatch(tasks)\n\u001b[0;32m    902\u001b[0m     \u001b[39mreturn\u001b[39;00m \u001b[39mTrue\u001b[39;00m\n",
      "File \u001b[1;32m~\\AppData\\Local\\Packages\\PythonSoftwareFoundation.Python.3.10_qbz5n2kfra8p0\\LocalCache\\local-packages\\Python310\\site-packages\\joblib\\parallel.py:819\u001b[0m, in \u001b[0;36mParallel._dispatch\u001b[1;34m(self, batch)\u001b[0m\n\u001b[0;32m    817\u001b[0m \u001b[39mwith\u001b[39;00m \u001b[39mself\u001b[39m\u001b[39m.\u001b[39m_lock:\n\u001b[0;32m    818\u001b[0m     job_idx \u001b[39m=\u001b[39m \u001b[39mlen\u001b[39m(\u001b[39mself\u001b[39m\u001b[39m.\u001b[39m_jobs)\n\u001b[1;32m--> 819\u001b[0m     job \u001b[39m=\u001b[39m \u001b[39mself\u001b[39;49m\u001b[39m.\u001b[39;49m_backend\u001b[39m.\u001b[39;49mapply_async(batch, callback\u001b[39m=\u001b[39;49mcb)\n\u001b[0;32m    820\u001b[0m     \u001b[39m# A job can complete so quickly than its callback is\u001b[39;00m\n\u001b[0;32m    821\u001b[0m     \u001b[39m# called before we get here, causing self._jobs to\u001b[39;00m\n\u001b[0;32m    822\u001b[0m     \u001b[39m# grow. To ensure correct results ordering, .insert is\u001b[39;00m\n\u001b[0;32m    823\u001b[0m     \u001b[39m# used (rather than .append) in the following line\u001b[39;00m\n\u001b[0;32m    824\u001b[0m     \u001b[39mself\u001b[39m\u001b[39m.\u001b[39m_jobs\u001b[39m.\u001b[39minsert(job_idx, job)\n",
      "File \u001b[1;32m~\\AppData\\Local\\Packages\\PythonSoftwareFoundation.Python.3.10_qbz5n2kfra8p0\\LocalCache\\local-packages\\Python310\\site-packages\\joblib\\_parallel_backends.py:208\u001b[0m, in \u001b[0;36mSequentialBackend.apply_async\u001b[1;34m(self, func, callback)\u001b[0m\n\u001b[0;32m    206\u001b[0m \u001b[39mdef\u001b[39;00m \u001b[39mapply_async\u001b[39m(\u001b[39mself\u001b[39m, func, callback\u001b[39m=\u001b[39m\u001b[39mNone\u001b[39;00m):\n\u001b[0;32m    207\u001b[0m \u001b[39m    \u001b[39m\u001b[39m\"\"\"Schedule a func to be run\"\"\"\u001b[39;00m\n\u001b[1;32m--> 208\u001b[0m     result \u001b[39m=\u001b[39m ImmediateResult(func)\n\u001b[0;32m    209\u001b[0m     \u001b[39mif\u001b[39;00m callback:\n\u001b[0;32m    210\u001b[0m         callback(result)\n",
      "File \u001b[1;32m~\\AppData\\Local\\Packages\\PythonSoftwareFoundation.Python.3.10_qbz5n2kfra8p0\\LocalCache\\local-packages\\Python310\\site-packages\\joblib\\_parallel_backends.py:597\u001b[0m, in \u001b[0;36mImmediateResult.__init__\u001b[1;34m(self, batch)\u001b[0m\n\u001b[0;32m    594\u001b[0m \u001b[39mdef\u001b[39;00m \u001b[39m__init__\u001b[39m(\u001b[39mself\u001b[39m, batch):\n\u001b[0;32m    595\u001b[0m     \u001b[39m# Don't delay the application, to avoid keeping the input\u001b[39;00m\n\u001b[0;32m    596\u001b[0m     \u001b[39m# arguments in memory\u001b[39;00m\n\u001b[1;32m--> 597\u001b[0m     \u001b[39mself\u001b[39m\u001b[39m.\u001b[39mresults \u001b[39m=\u001b[39m batch()\n",
      "File \u001b[1;32m~\\AppData\\Local\\Packages\\PythonSoftwareFoundation.Python.3.10_qbz5n2kfra8p0\\LocalCache\\local-packages\\Python310\\site-packages\\joblib\\parallel.py:288\u001b[0m, in \u001b[0;36mBatchedCalls.__call__\u001b[1;34m(self)\u001b[0m\n\u001b[0;32m    284\u001b[0m \u001b[39mdef\u001b[39;00m \u001b[39m__call__\u001b[39m(\u001b[39mself\u001b[39m):\n\u001b[0;32m    285\u001b[0m     \u001b[39m# Set the default nested backend to self._backend but do not set the\u001b[39;00m\n\u001b[0;32m    286\u001b[0m     \u001b[39m# change the default number of processes to -1\u001b[39;00m\n\u001b[0;32m    287\u001b[0m     \u001b[39mwith\u001b[39;00m parallel_backend(\u001b[39mself\u001b[39m\u001b[39m.\u001b[39m_backend, n_jobs\u001b[39m=\u001b[39m\u001b[39mself\u001b[39m\u001b[39m.\u001b[39m_n_jobs):\n\u001b[1;32m--> 288\u001b[0m         \u001b[39mreturn\u001b[39;00m [func(\u001b[39m*\u001b[39margs, \u001b[39m*\u001b[39m\u001b[39m*\u001b[39mkwargs)\n\u001b[0;32m    289\u001b[0m                 \u001b[39mfor\u001b[39;00m func, args, kwargs \u001b[39min\u001b[39;00m \u001b[39mself\u001b[39m\u001b[39m.\u001b[39mitems]\n",
      "File \u001b[1;32m~\\AppData\\Local\\Packages\\PythonSoftwareFoundation.Python.3.10_qbz5n2kfra8p0\\LocalCache\\local-packages\\Python310\\site-packages\\joblib\\parallel.py:288\u001b[0m, in \u001b[0;36m<listcomp>\u001b[1;34m(.0)\u001b[0m\n\u001b[0;32m    284\u001b[0m \u001b[39mdef\u001b[39;00m \u001b[39m__call__\u001b[39m(\u001b[39mself\u001b[39m):\n\u001b[0;32m    285\u001b[0m     \u001b[39m# Set the default nested backend to self._backend but do not set the\u001b[39;00m\n\u001b[0;32m    286\u001b[0m     \u001b[39m# change the default number of processes to -1\u001b[39;00m\n\u001b[0;32m    287\u001b[0m     \u001b[39mwith\u001b[39;00m parallel_backend(\u001b[39mself\u001b[39m\u001b[39m.\u001b[39m_backend, n_jobs\u001b[39m=\u001b[39m\u001b[39mself\u001b[39m\u001b[39m.\u001b[39m_n_jobs):\n\u001b[1;32m--> 288\u001b[0m         \u001b[39mreturn\u001b[39;00m [func(\u001b[39m*\u001b[39margs, \u001b[39m*\u001b[39m\u001b[39m*\u001b[39mkwargs)\n\u001b[0;32m    289\u001b[0m                 \u001b[39mfor\u001b[39;00m func, args, kwargs \u001b[39min\u001b[39;00m \u001b[39mself\u001b[39m\u001b[39m.\u001b[39mitems]\n",
      "File \u001b[1;32m~\\AppData\\Local\\Packages\\PythonSoftwareFoundation.Python.3.10_qbz5n2kfra8p0\\LocalCache\\local-packages\\Python310\\site-packages\\sklearn\\utils\\parallel.py:123\u001b[0m, in \u001b[0;36m_FuncWrapper.__call__\u001b[1;34m(self, *args, **kwargs)\u001b[0m\n\u001b[0;32m    121\u001b[0m     config \u001b[39m=\u001b[39m {}\n\u001b[0;32m    122\u001b[0m \u001b[39mwith\u001b[39;00m config_context(\u001b[39m*\u001b[39m\u001b[39m*\u001b[39mconfig):\n\u001b[1;32m--> 123\u001b[0m     \u001b[39mreturn\u001b[39;00m \u001b[39mself\u001b[39m\u001b[39m.\u001b[39mfunction(\u001b[39m*\u001b[39margs, \u001b[39m*\u001b[39m\u001b[39m*\u001b[39mkwargs)\n",
      "File \u001b[1;32m~\\AppData\\Local\\Packages\\PythonSoftwareFoundation.Python.3.10_qbz5n2kfra8p0\\LocalCache\\local-packages\\Python310\\site-packages\\sklearn\\linear_model\\_logistic.py:296\u001b[0m, in \u001b[0;36m_logistic_regression_path\u001b[1;34m(X, y, pos_class, Cs, fit_intercept, max_iter, tol, verbose, solver, coef, class_weight, dual, penalty, intercept_scaling, multi_class, random_state, check_input, max_squared_sum, sample_weight, l1_ratio, n_threads)\u001b[0m\n\u001b[0;32m    291\u001b[0m     pos_class \u001b[39m=\u001b[39m classes[\u001b[39m1\u001b[39m]\n\u001b[0;32m    293\u001b[0m \u001b[39m# If sample weights exist, convert them to array (support for lists)\u001b[39;00m\n\u001b[0;32m    294\u001b[0m \u001b[39m# and check length\u001b[39;00m\n\u001b[0;32m    295\u001b[0m \u001b[39m# Otherwise set them to 1 for all examples\u001b[39;00m\n\u001b[1;32m--> 296\u001b[0m sample_weight \u001b[39m=\u001b[39m _check_sample_weight(sample_weight, X, dtype\u001b[39m=\u001b[39;49mX\u001b[39m.\u001b[39;49mdtype, copy\u001b[39m=\u001b[39;49m\u001b[39mTrue\u001b[39;49;00m)\n\u001b[0;32m    298\u001b[0m \u001b[39mif\u001b[39;00m solver \u001b[39m==\u001b[39m \u001b[39m\"\u001b[39m\u001b[39mnewton-cholesky\u001b[39m\u001b[39m\"\u001b[39m:\n\u001b[0;32m    299\u001b[0m     \u001b[39m# IMPORTANT NOTE: Rescaling of sample_weight:\u001b[39;00m\n\u001b[0;32m    300\u001b[0m     \u001b[39m# Same as in _GeneralizedLinearRegressor.fit().\u001b[39;00m\n\u001b[1;32m   (...)\u001b[0m\n\u001b[0;32m    310\u001b[0m     \u001b[39m#\u001b[39;00m\n\u001b[0;32m    311\u001b[0m     \u001b[39m# This rescaling has to be done before multiplying by class_weights.\u001b[39;00m\n\u001b[0;32m    312\u001b[0m     sw_sum \u001b[39m=\u001b[39m sample_weight\u001b[39m.\u001b[39msum()  \u001b[39m# needed to rescale penalty, nasty matter!\u001b[39;00m\n",
      "File \u001b[1;32m~\\AppData\\Local\\Packages\\PythonSoftwareFoundation.Python.3.10_qbz5n2kfra8p0\\LocalCache\\local-packages\\Python310\\site-packages\\sklearn\\utils\\validation.py:1779\u001b[0m, in \u001b[0;36m_check_sample_weight\u001b[1;34m(sample_weight, X, dtype, copy, only_non_negative)\u001b[0m\n\u001b[0;32m   1776\u001b[0m         \u001b[39mraise\u001b[39;00m \u001b[39mValueError\u001b[39;00m(\u001b[39m\"\u001b[39m\u001b[39mSample weights must be 1D array or scalar\u001b[39m\u001b[39m\"\u001b[39m)\n\u001b[0;32m   1778\u001b[0m     \u001b[39mif\u001b[39;00m sample_weight\u001b[39m.\u001b[39mshape \u001b[39m!=\u001b[39m (n_samples,):\n\u001b[1;32m-> 1779\u001b[0m         \u001b[39mraise\u001b[39;00m \u001b[39mValueError\u001b[39;00m(\n\u001b[0;32m   1780\u001b[0m             \u001b[39m\"\u001b[39m\u001b[39msample_weight.shape == \u001b[39m\u001b[39m{}\u001b[39;00m\u001b[39m, expected \u001b[39m\u001b[39m{}\u001b[39;00m\u001b[39m!\u001b[39m\u001b[39m\"\u001b[39m\u001b[39m.\u001b[39mformat(\n\u001b[0;32m   1781\u001b[0m                 sample_weight\u001b[39m.\u001b[39mshape, (n_samples,)\n\u001b[0;32m   1782\u001b[0m             )\n\u001b[0;32m   1783\u001b[0m         )\n\u001b[0;32m   1785\u001b[0m \u001b[39mif\u001b[39;00m only_non_negative:\n\u001b[0;32m   1786\u001b[0m     check_non_negative(sample_weight, \u001b[39m\"\u001b[39m\u001b[39m`sample_weight`\u001b[39m\u001b[39m\"\u001b[39m)\n",
      "\u001b[1;31mValueError\u001b[0m: sample_weight.shape == (3,), expected (8722,)!"
     ]
    }
   ],
   "source": [
    "model = Aspect_logreg_model()\n",
    "model.fit3layer(df)"
   ]
  },
  {
   "attachments": {},
   "cell_type": "markdown",
   "metadata": {},
   "source": [
    "Try to aspect sentiment analyst in specific text"
   ]
  },
  {
   "cell_type": "code",
   "execution_count": 83,
   "metadata": {},
   "outputs": [
    {
     "data": {
      "text/plain": [
       "['{HOTEL#PRICES, positive}',\n",
       " '{ROOMS#CLEANLINESS, positive}',\n",
       " '{HOTEL#COMFORT, positive}',\n",
       " '{HOTEL#GENERAL, positive}']"
      ]
     },
     "execution_count": 83,
     "metadata": {},
     "output_type": "execute_result"
    }
   ],
   "source": [
    "model.detail_predict(\"Giá cả khá mềm, hợp với túi tiền. Phòng sạch, gọn gàng. Tôi khá hài lòng với Khách sạn này trong kỳ nghỉ vừa rồi. Rất cảm ơn Mytour đã hỗ trợ.\")"
   ]
  },
  {
   "attachments": {},
   "cell_type": "markdown",
   "metadata": {},
   "source": [
    "Seem it works well with positive comment"
   ]
  },
  {
   "cell_type": "code",
   "execution_count": 84,
   "metadata": {},
   "outputs": [
    {
     "data": {
      "text/plain": [
       "['{SERVICE#GENERAL, positive}',\n",
       " '{HOTEL#CLEANLINESS, positive}',\n",
       " '{FACILITIES#CLEANLINESS, negative}']"
      ]
     },
     "execution_count": 84,
     "metadata": {},
     "output_type": "execute_result"
    }
   ],
   "source": [
    "model.detail_predict(\"Nhân viên lịch sự, phục vụ chu đáo. Khách sạn ở sạch sẽ. Bãi biển không được sạch sẽ lắm, có nhiều rác, nước đục\")"
   ]
  },
  {
   "attachments": {},
   "cell_type": "markdown",
   "metadata": {},
   "source": [
    "It still work with a review has negative sentiment."
   ]
  },
  {
   "attachments": {},
   "cell_type": "markdown",
   "metadata": {},
   "source": [
    "### Evalute \n",
    "\n",
    "on train dataset"
   ]
  },
  {
   "cell_type": "code",
   "execution_count": 85,
   "metadata": {},
   "outputs": [
    {
     "name": "stdout",
     "output_type": "stream",
     "text": [
      "              precision    recall  f1-score   support\n",
      "\n",
      "    negative       0.92      0.82      0.86      1679\n",
      "     neutral       0.93      0.62      0.74       373\n",
      "    positive       0.94      0.98      0.96      6670\n",
      "\n",
      "    accuracy                           0.94      8722\n",
      "   macro avg       0.93      0.81      0.86      8722\n",
      "weighted avg       0.94      0.94      0.93      8722\n",
      "\n",
      "                precision    recall  f1-score   support\n",
      "\n",
      "    FACILITIES       0.83      0.71      0.76       797\n",
      "   FOOD&DRINKS       0.80      0.70      0.74       688\n",
      "         HOTEL       0.75      0.89      0.81      2857\n",
      "      LOCATION       0.83      0.78      0.80       865\n",
      "         ROOMS       0.77      0.76      0.76      1757\n",
      "ROOM_AMENITIES       0.88      0.64      0.74       580\n",
      "       SERVICE       0.73      0.69      0.71      1178\n",
      "\n",
      "      accuracy                           0.78      8722\n",
      "     macro avg       0.80      0.74      0.76      8722\n",
      "  weighted avg       0.78      0.78      0.77      8722\n",
      "\n",
      "                 precision    recall  f1-score   support\n",
      "\n",
      "    CLEANLINESS       0.80      0.65      0.72       826\n",
      "        COMFORT       0.76      0.71      0.73      1140\n",
      "DESIGN&FEATURES       0.80      0.78      0.79      1873\n",
      "        GENERAL       0.75      0.88      0.81      3243\n",
      "  MISCELLANEOUS       1.00      0.66      0.80        71\n",
      "         PRICES       0.80      0.65      0.71       421\n",
      "        QUALITY       0.85      0.70      0.77       876\n",
      "  STYLE&OPTIONS       0.86      0.62      0.72       272\n",
      "\n",
      "       accuracy                           0.78      8722\n",
      "      macro avg       0.83      0.71      0.76      8722\n",
      "   weighted avg       0.78      0.78      0.78      8722\n",
      "\n"
     ]
    }
   ],
   "source": [
    "model.evaluate(df)"
   ]
  },
  {
   "attachments": {},
   "cell_type": "markdown",
   "metadata": {},
   "source": [
    "In sentiment it has F1-score accuracy pretty good, but just in positive, and very bad on neutral, because our data set very unbalanced,\n",
    "With entity and attribute all have bad performence, maybe our data unbalanced and there are many class, but dataset dont large enough. the result will be easily skewed towards the dominant class "
   ]
  },
  {
   "cell_type": "code",
   "execution_count": 86,
   "metadata": {},
   "outputs": [
    {
     "data": {
      "text/html": [
       "<div>\n",
       "<style scoped>\n",
       "    .dataframe tbody tr th:only-of-type {\n",
       "        vertical-align: middle;\n",
       "    }\n",
       "\n",
       "    .dataframe tbody tr th {\n",
       "        vertical-align: top;\n",
       "    }\n",
       "\n",
       "    .dataframe thead th {\n",
       "        text-align: right;\n",
       "    }\n",
       "</style>\n",
       "<table border=\"1\" class=\"dataframe\">\n",
       "  <thead>\n",
       "    <tr style=\"text-align: right;\">\n",
       "      <th></th>\n",
       "      <th>text</th>\n",
       "      <th>label</th>\n",
       "      <th>entity</th>\n",
       "      <th>attribute</th>\n",
       "    </tr>\n",
       "  </thead>\n",
       "  <tbody>\n",
       "    <tr>\n",
       "      <th>0</th>\n",
       "      <td>ga giường không sạch  nhân_viên quên dọn phòng...</td>\n",
       "      <td>negative</td>\n",
       "      <td>ROOM_AMENITIES</td>\n",
       "      <td>CLEANLINESS</td>\n",
       "    </tr>\n",
       "    <tr>\n",
       "      <th>1</th>\n",
       "      <td>nv nhiệt_tình  phòng ở sạch_sẽ  tiện_nghi  vị_...</td>\n",
       "      <td>positive</td>\n",
       "      <td>SERVICE</td>\n",
       "      <td>GENERAL</td>\n",
       "    </tr>\n",
       "    <tr>\n",
       "      <th>2</th>\n",
       "      <td>đi bộ ra biển gần  tiện đi_lại phòng view biển...</td>\n",
       "      <td>positive</td>\n",
       "      <td>LOCATION</td>\n",
       "      <td>GENERAL</td>\n",
       "    </tr>\n",
       "    <tr>\n",
       "      <th>3</th>\n",
       "      <td>tất_cả mọi thứ đều sạch_sẽ  giường ngủ rất tho...</td>\n",
       "      <td>positive</td>\n",
       "      <td>HOTEL</td>\n",
       "      <td>CLEANLINESS</td>\n",
       "    </tr>\n",
       "    <tr>\n",
       "      <th>4</th>\n",
       "      <td>không có quạt_điện mà chỉ có_điều hòa nên có c...</td>\n",
       "      <td>positive</td>\n",
       "      <td>ROOM_AMENITIES</td>\n",
       "      <td>COMFORT</td>\n",
       "    </tr>\n",
       "  </tbody>\n",
       "</table>\n",
       "</div>"
      ],
      "text/plain": [
       "                                                text     label  \\\n",
       "0  ga giường không sạch  nhân_viên quên dọn phòng...  negative   \n",
       "1  nv nhiệt_tình  phòng ở sạch_sẽ  tiện_nghi  vị_...  positive   \n",
       "2  đi bộ ra biển gần  tiện đi_lại phòng view biển...  positive   \n",
       "3  tất_cả mọi thứ đều sạch_sẽ  giường ngủ rất tho...  positive   \n",
       "4  không có quạt_điện mà chỉ có_điều hòa nên có c...  positive   \n",
       "\n",
       "           entity    attribute  \n",
       "0  ROOM_AMENITIES  CLEANLINESS  \n",
       "1         SERVICE      GENERAL  \n",
       "2        LOCATION      GENERAL  \n",
       "3           HOTEL  CLEANLINESS  \n",
       "4  ROOM_AMENITIES      COMFORT  "
      ]
     },
     "execution_count": 86,
     "metadata": {},
     "output_type": "execute_result"
    }
   ],
   "source": [
    "df_test = data_trans.load_to_df('data_hotel_test.txt')\n",
    "df_test.head(5)"
   ]
  },
  {
   "cell_type": "code",
   "execution_count": 87,
   "metadata": {},
   "outputs": [
    {
     "name": "stdout",
     "output_type": "stream",
     "text": [
      "              precision    recall  f1-score   support\n",
      "\n",
      "    negative       0.38      0.45      0.41       231\n",
      "     neutral       0.03      0.01      0.02        84\n",
      "    positive       0.84      0.84      0.84      1154\n",
      "\n",
      "    accuracy                           0.73      1469\n",
      "   macro avg       0.42      0.44      0.42      1469\n",
      "weighted avg       0.72      0.73      0.73      1469\n",
      "\n",
      "                precision    recall  f1-score   support\n",
      "\n",
      "    FACILITIES       0.12      0.19      0.15        68\n",
      "   FOOD&DRINKS       0.32      0.26      0.28       143\n",
      "         HOTEL       0.32      0.43      0.36       290\n",
      "      LOCATION       0.38      0.31      0.35       153\n",
      "         ROOMS       0.35      0.42      0.38       356\n",
      "ROOM_AMENITIES       0.34      0.19      0.24       183\n",
      "       SERVICE       0.40      0.29      0.33       276\n",
      "\n",
      "      accuracy                           0.33      1469\n",
      "     macro avg       0.32      0.30      0.30      1469\n",
      "  weighted avg       0.34      0.33      0.33      1469\n",
      "\n",
      "                 precision    recall  f1-score   support\n",
      "\n",
      "    CLEANLINESS       0.30      0.22      0.25       195\n",
      "        COMFORT       0.21      0.19      0.20       149\n",
      "DESIGN&FEATURES       0.33      0.41      0.37       279\n",
      "        GENERAL       0.51      0.60      0.55       569\n",
      "  MISCELLANEOUS       0.00      0.00      0.00        31\n",
      "         PRICES       0.16      0.15      0.16        54\n",
      "        QUALITY       0.29      0.22      0.25       134\n",
      "  STYLE&OPTIONS       0.12      0.07      0.09        58\n",
      "\n",
      "       accuracy                           0.38      1469\n",
      "      macro avg       0.24      0.23      0.23      1469\n",
      "   weighted avg       0.36      0.38      0.37      1469\n",
      "\n"
     ]
    }
   ],
   "source": [
    "model.evaluate(df_test)"
   ]
  },
  {
   "attachments": {},
   "cell_type": "markdown",
   "metadata": {},
   "source": [
    "In test dataset it's little lower perfomance in three class."
   ]
  },
  {
   "attachments": {},
   "cell_type": "markdown",
   "metadata": {},
   "source": [
    "Test with 10 review from test data"
   ]
  },
  {
   "cell_type": "code",
   "execution_count": 34,
   "metadata": {},
   "outputs": [
    {
     "name": "stdout",
     "output_type": "stream",
     "text": [
      "#11\n",
      "khách sạn nhỏ nhưng rất đẹp và sang trọng , nhân viên vui vẻ nhiệt tình , giá cả hợp lý cho một khách sạn gần biển .\n",
      "['{HOTEL#DESIGN&FEATURES, positive}']\n",
      "#12\n",
      "Không giống như quảng cáo và đánh giá trên booking. Đặt phòng suite nhưng vì hết nên cho lên phòng cao nhất nằm phía sau, k có cửa kính ban công như đã Book trước đó. Chúng tôi được yêu cầu không động vào giường bên cạnh vì giá đặt là phòng 1 giường. Ok không sao nhưng phòng quá nhiều muỗi. Mình mang theo bé 3 tháng phải trả phòng trong đêm vì muỗi quá nhiều không thể ngủ được. Toilet bẩn, bàn trà bẩn, lau không sạch, còn rất nhiều vết trà và cà phê cũ. Nền gạch rít do không lau. Không có ly uống nước, mặc dù đi thang máy xuống nhiều lần nhưng ks bảo không có ly. Trong khi lại để trà và cà phê trên bàn. Theo đánh giá khen trên booking đa phần nói nội thất mới mình không hề thấy mới. Rất cũ kĩ. Phòng thì rộng và đẹp, giá cũng rẻ nhưng quá tệ phong cách phục vụ. Từ khi vào ở đến lúc check out lễ tân đều đi ngủ trong phòng không ra tiếp khách. Làm mình phải kêu rất nhiều. Điện thoại bàn không gọi được cho lễ tân. Và tệ nhất là không gạc công tắt máy lạnh, mình phải xuống tận lễ tân yêu cầu. Nếu lần sau thay đổi thì mình sẽ đến lại vì giá ok.\n",
      "['{FOOD&DRINKS#QUALITY, negative}', '{HOTEL#STYLE&OPTIONS, positive}', '{ROOMS#PRICES, negative}', '{ROOMS#QUALITY, neutral}', '{HOTEL#GENERAL, positive}', '{FOOD&DRINKS#QUALITY, negative}', '{ROOMS#QUALITY, negative}', '{SERVICE#GENERAL, neutral}', '{FOOD&DRINKS#STYLE&OPTIONS, neutral}', '{HOTEL#QUALITY, negative}', '{HOTEL#DESIGN&FEATURES, negative}', '{LOCATION#GENERAL, positive}', '{FACILITIES#CLEANLINESS, positive}', '{SERVICE#GENERAL, positive}', '{ROOM_AMENITIES#DESIGN&FEATURES, negative}', '{SERVICE#DESIGN&FEATURES, positive}', '{ROOMS#CLEANLINESS, positive}']\n",
      "#13\n",
      "Khách sạn mới xây, nội thất còn rất mới. Mình book được phòng nằm ngay tầng trệt, cửa gỗ khá chắc chắn. Wifi + nước mạnh,. Lễ tân nhiệt tình, vui vẻ, hôm đầu tiên vào nhận phòng lễ tân có nói rõ nước nào tính tiền và free (cảm giác khá rõ ràng), phòng rất sạch và thơm. Ngày nào đi chơi về cũng như có cô tấm mới xuất hiện :)) . Khách sạn cách cửa hàng tiện lợi vài ba căn, nằm rất gần biển (khoảng 5p đi bộ). Khách sạn còn cho gửi đồ lại dù đã trả phòng nữa. Cảm giác rất dễ chịu. Phòng đúng là cách âm không được tốt. Cô dọn phòng cũng quên để các loại khăn và nước free cho phòng mình. Nhưng mà mấy bạn lễ tân dễ thương lắm, ra nói cô quên cái là mấy bạn lấy đưa liền. Nói chung với giá mình book được so với tiện nghi thì không còn gì để chê trách.\n",
      "['{HOTEL#DESIGN&FEATURES, positive}', '{FOOD&DRINKS#DESIGN&FEATURES, positive}', '{ROOM_AMENITIES#DESIGN&FEATURES, negative}', '{HOTEL#DESIGN&FEATURES, positive}', '{ROOMS#COMFORT, negative}', '{FACILITIES#PRICES, negative}', '{FACILITIES#PRICES, positive}', '{ROOMS#DESIGN&FEATURES, negative}', '{ROOMS#GENERAL, negative}', '{ROOMS#DESIGN&FEATURES, positive}', '{FOOD&DRINKS#DESIGN&FEATURES, positive}', '{ROOMS#DESIGN&FEATURES, neutral}']\n",
      "#14\n",
      "Khách sạn gần biển nên buổi tối chỉ cần rảnh là ra được biển chơi. Tuy hơi xa trung tâm thành phố nhưng cũng không ảnh hưởng gì nhiều vì đường phố Đà Nẵng khá rộng, thoáng, dễ đi. Gần đây còn có quá Tiện lợi 24h bán nhiều đồ Hàn, thỉnh thoảng ra đấy ăn mì, xì sụp như phim :D Bọn mình rất ấn tượng khi nhìn thấy căn phòng: Sạch sẽ, đẹp, đầy đủ tiện nghi,.. nói chung là đẹp như ảnh.\n",
      "['{ROOMS#COMFORT, positive}', '{SERVICE#GENERAL, positive}', '{FACILITIES#GENERAL, positive}']\n",
      "#15\n",
      "Khách sạn gần biển. Phòng khá ổn so với giá tiền, mình cho là khá đầy đủ tiện nghi và sạch sẽ (có máy sấy tóc, ấm đun sẵn trong phòng, cả wifi và nước nóng đều tốt). Cả 2 bạn Lễ tân đều rất nhiệt tình và thân thiện. Máy lạnh không được lạnh lắm\n",
      "['{LOCATION#GENERAL, positive}', '{HOTEL#DESIGN&FEATURES, positive}', '{HOTEL#COMFORT, positive}', '{ROOMS#COMFORT, negative}']\n",
      "#16\n",
      "Tuyệt vời trên tất cả. Một kỳ nghĩ thú vị với tôi. Nhân viên thân thiện nhiệt tình. Phòng ốc sạch sẽ. Gần biển chỉ 3 phút đi bộ.tôi rất hài lòng về nơi này Rất tiếc là tôi không thể ở lâu hơn nữa\n",
      "['{LOCATION#COMFORT, positive}', '{HOTEL#COMFORT, positive}', '{SERVICE#GENERAL, positive}', '{ROOMS#CLEANLINESS, positive}', '{FOOD&DRINKS#GENERAL, positive}']\n",
      "#17\n",
      "Mình ở phòng 301 sau đó chuyển qua 601, đều là 2 phòng phía đầu. Phòng rất mới, đẹp, thoáng và rất tiện. Nhân viên thì cực kì ưng luôn, thân thiện hết mức. Thang máy hơi bé nhưng phù hợp với khách sạn.\n",
      "['{ROOM_AMENITIES#DESIGN&FEATURES, positive}', '{HOTEL#DESIGN&FEATURES, positive}', '{HOTEL#CLEANLINESS, positive}', '{ROOMS#DESIGN&FEATURES, positive}']\n",
      "#18\n",
      "Khách sạn sạch sẽ, thoáng mát, vị trí gần biển , đi bộ khoảng 3p, cách trung tâm thành phố không xa lắm. Nhân viên thân thiện, cởi mở, hòa đồng Wifi, nước nóng lạnh đầy đủ Khách sạn An hội là một trong những khách sạn tuyệt vời mà tôi từng ghé thăm. I Like so much !!! Cảm ơn khách sạn đã cho tôi một kỳ nghĩ thật tuyệt vời\n",
      "['{LOCATION#GENERAL, positive}', '{SERVICE#CLEANLINESS, positive}', '{FOOD&DRINKS#QUALITY, positive}', '{HOTEL#GENERAL, positive}', '{HOTEL#COMFORT, positive}']\n",
      "#19\n",
      "Phòng khá là sạch sẽ và mới, dễ thương. Giá rẻ và khá hợp lý cho các nhóm du lịch từ 4 người. Nhân viên lễ tân hay không có mặt ở quầy nên đôi lúc cần việc thì hơi khó khăn tí.\n",
      "['{ROOMS#CLEANLINESS, positive}', '{LOCATION#STYLE&OPTIONS, positive}', '{SERVICE#GENERAL, negative}']\n",
      "#20\n",
      "phòng sạch sẽ, tiện nghi đầy đủ, lễ tân vui vẻ nhiệt tình, phòng thiếu ánh sáng trắng, nên hơi tối\n",
      "['{HOTEL#GENERAL, positive}']\n"
     ]
    }
   ],
   "source": [
    "textlist = data_trans.read_text_only('data_hotel_test.txt')\n",
    "for i in range(10, 20):\n",
    "    print(f'#{i+1}')\n",
    "    text = textlist[i]\n",
    "    print(text)\n",
    "    print(str(model.detail_predict(text)))\n",
    "    "
   ]
  },
  {
   "attachments": {},
   "cell_type": "markdown",
   "metadata": {},
   "source": [
    "## Restaurant"
   ]
  },
  {
   "cell_type": "code",
   "execution_count": 56,
   "metadata": {},
   "outputs": [
    {
     "data": {
      "text/html": [
       "<div>\n",
       "<style scoped>\n",
       "    .dataframe tbody tr th:only-of-type {\n",
       "        vertical-align: middle;\n",
       "    }\n",
       "\n",
       "    .dataframe tbody tr th {\n",
       "        vertical-align: top;\n",
       "    }\n",
       "\n",
       "    .dataframe thead th {\n",
       "        text-align: right;\n",
       "    }\n",
       "</style>\n",
       "<table border=\"1\" class=\"dataframe\">\n",
       "  <thead>\n",
       "    <tr style=\"text-align: right;\">\n",
       "      <th></th>\n",
       "      <th>text</th>\n",
       "      <th>label</th>\n",
       "      <th>entity</th>\n",
       "      <th>attribute</th>\n",
       "    </tr>\n",
       "  </thead>\n",
       "  <tbody>\n",
       "    <tr>\n",
       "      <th>0</th>\n",
       "      <td>_ ảnh chụp từ hôm_qua  đi chơi với gia_đình và...</td>\n",
       "      <td>neutral</td>\n",
       "      <td>FOOD</td>\n",
       "      <td>STYLE&amp;OPTIONS</td>\n",
       "    </tr>\n",
       "    <tr>\n",
       "      <th>1</th>\n",
       "      <td>_ hôm_qua đi ăn trưa muộn  ai cũng đói hết nên...</td>\n",
       "      <td>neutral</td>\n",
       "      <td>FOOD</td>\n",
       "      <td>QUALITY</td>\n",
       "    </tr>\n",
       "    <tr>\n",
       "      <th>2</th>\n",
       "      <td>_hương vị thơm ngon  ăn cay cay rất thích  nêm...</td>\n",
       "      <td>positive</td>\n",
       "      <td>FOOD</td>\n",
       "      <td>QUALITY</td>\n",
       "    </tr>\n",
       "    <tr>\n",
       "      <th>3</th>\n",
       "      <td>ngoài_ra menu quán cũng nhiều món khác nhau th...</td>\n",
       "      <td>positive</td>\n",
       "      <td>FOOD</td>\n",
       "      <td>STYLE&amp;OPTIONS</td>\n",
       "    </tr>\n",
       "    <tr>\n",
       "      <th>4</th>\n",
       "      <td>khách của quán đông nên nhiều khi nhân_viên ph...</td>\n",
       "      <td>positive</td>\n",
       "      <td>AMBIENCE</td>\n",
       "      <td>GENERAL</td>\n",
       "    </tr>\n",
       "  </tbody>\n",
       "</table>\n",
       "</div>"
      ],
      "text/plain": [
       "                                                text     label    entity  \\\n",
       "0  _ ảnh chụp từ hôm_qua  đi chơi với gia_đình và...   neutral      FOOD   \n",
       "1  _ hôm_qua đi ăn trưa muộn  ai cũng đói hết nên...   neutral      FOOD   \n",
       "2  _hương vị thơm ngon  ăn cay cay rất thích  nêm...  positive      FOOD   \n",
       "3  ngoài_ra menu quán cũng nhiều món khác nhau th...  positive      FOOD   \n",
       "4  khách của quán đông nên nhiều khi nhân_viên ph...  positive  AMBIENCE   \n",
       "\n",
       "       attribute  \n",
       "0  STYLE&OPTIONS  \n",
       "1        QUALITY  \n",
       "2        QUALITY  \n",
       "3  STYLE&OPTIONS  \n",
       "4        GENERAL  "
      ]
     },
     "execution_count": 56,
     "metadata": {},
     "output_type": "execute_result"
    }
   ],
   "source": [
    "df_res = data_trans.load_to_df('data_Restaurant_train.txt')\n",
    "df_res.head(5)"
   ]
  },
  {
   "cell_type": "code",
   "execution_count": 18,
   "metadata": {},
   "outputs": [
    {
     "data": {
      "image/png": "[encoded data removed]",
      "text/plain": [
       "<Figure size 640x480 with 1 Axes>"
      ]
     },
     "metadata": {},
     "output_type": "display_data"
    }
   ],
   "source": [
    "sns.countplot(df,x='label')\n",
    "plt.title(\"Count sentiment in restaurant dataset\")\n",
    "plt.show()"
   ]
  },
  {
   "cell_type": "code",
   "execution_count": 19,
   "metadata": {},
   "outputs": [
    {
     "data": {
      "image/png": "[encoded data removed]",
      "text/plain": [
       "<Figure size 1200x600 with 1 Axes>"
      ]
     },
     "metadata": {},
     "output_type": "display_data"
    }
   ],
   "source": [
    "plt.figure(figsize=(12,6))\n",
    "sns.countplot(df,x='entity')\n",
    "plt.title(\"Count entitys in restaurant dataset\")\n",
    "plt.show()"
   ]
  },
  {
   "cell_type": "code",
   "execution_count": 20,
   "metadata": {},
   "outputs": [
    {
     "data": {
      "image/png": "[encoded data removed]",
      "text/plain": [
       "<Figure size 1200x600 with 1 Axes>"
      ]
     },
     "metadata": {},
     "output_type": "display_data"
    }
   ],
   "source": [
    "plt.figure(figsize=(12,6))\n",
    "sns.countplot(df,x='attribute')\n",
    "plt.title(\"Count attribute in restaurant dataset\")\n",
    "plt.show()"
   ]
  },
  {
   "cell_type": "code",
   "execution_count": 57,
   "metadata": {},
   "outputs": [
    {
     "name": "stderr",
     "output_type": "stream",
     "text": [
      "C:\\Users\\drawt\\AppData\\Local\\Packages\\PythonSoftwareFoundation.Python.3.10_qbz5n2kfra8p0\\LocalCache\\local-packages\\Python310\\site-packages\\sklearn\\linear_model\\_logistic.py:458: ConvergenceWarning: lbfgs failed to converge (status=1):\n",
      "STOP: TOTAL NO. of ITERATIONS REACHED LIMIT.\n",
      "\n",
      "Increase the number of iterations (max_iter) or scale the data as shown in:\n",
      "    https://scikit-learn.org/stable/modules/preprocessing.html\n",
      "Please also refer to the documentation for alternative solver options:\n",
      "    https://scikit-learn.org/stable/modules/linear_model.html#logistic-regression\n",
      "  n_iter_i = _check_optimize_result(\n",
      "C:\\Users\\drawt\\AppData\\Local\\Packages\\PythonSoftwareFoundation.Python.3.10_qbz5n2kfra8p0\\LocalCache\\local-packages\\Python310\\site-packages\\sklearn\\linear_model\\_logistic.py:458: ConvergenceWarning: lbfgs failed to converge (status=1):\n",
      "STOP: TOTAL NO. of ITERATIONS REACHED LIMIT.\n",
      "\n",
      "Increase the number of iterations (max_iter) or scale the data as shown in:\n",
      "    https://scikit-learn.org/stable/modules/preprocessing.html\n",
      "Please also refer to the documentation for alternative solver options:\n",
      "    https://scikit-learn.org/stable/modules/linear_model.html#logistic-regression\n",
      "  n_iter_i = _check_optimize_result(\n"
     ]
    }
   ],
   "source": [
    "model_res = Aspect_logreg_model()\n",
    "model_res.fit3layer(df_res)"
   ]
  },
  {
   "attachments": {},
   "cell_type": "markdown",
   "metadata": {},
   "source": [
    "Test with specific text"
   ]
  },
  {
   "cell_type": "code",
   "execution_count": 22,
   "metadata": {},
   "outputs": [
    {
     "name": "stdout",
     "output_type": "stream",
     "text": [
      "['{AMBIENCE#GENERAL, neutral}', '{RESTAURANT#QUALITY, neutral}']\n"
     ]
    }
   ],
   "source": [
    "print(model_res.detail_predict('chổ này gần nhà mình nên ghé thử, quán thoáng mát, nhân viên phục vụ chu đáo, món ăn vừa túi sinh viên! có mấy món lạ nữa kết nhất là cái cánh vịt đó'))"
   ]
  },
  {
   "cell_type": "code",
   "execution_count": 58,
   "metadata": {},
   "outputs": [
    {
     "name": "stdout",
     "output_type": "stream",
     "text": [
      "              precision    recall  f1-score   support\n",
      "\n",
      "    negative       0.96      0.44      0.60       456\n",
      "     neutral       0.91      0.54      0.68      1169\n",
      "    positive       0.87      0.99      0.93      5362\n",
      "\n",
      "    accuracy                           0.88      6987\n",
      "   macro avg       0.91      0.66      0.74      6987\n",
      "weighted avg       0.89      0.88      0.87      6987\n",
      "\n",
      "              precision    recall  f1-score   support\n",
      "\n",
      "    AMBIENCE       0.87      0.52      0.65       535\n",
      "      DRINKS       0.89      0.36      0.51       185\n",
      "        FOOD       0.82      0.99      0.89      4676\n",
      "    LOCATION       0.94      0.62      0.75       274\n",
      "  RESTAURANT       0.89      0.56      0.68       840\n",
      "     SERVICE       0.85      0.41      0.56       477\n",
      "\n",
      "    accuracy                           0.83      6987\n",
      "   macro avg       0.88      0.58      0.67      6987\n",
      "weighted avg       0.84      0.83      0.81      6987\n",
      "\n",
      "               precision    recall  f1-score   support\n",
      "\n",
      "      GENERAL       0.79      0.83      0.81      1864\n",
      "MISCELLANEOUS       1.00      0.33      0.50        96\n",
      "       PRICES       0.84      0.69      0.76      1152\n",
      "      QUALITY       0.78      0.88      0.83      2359\n",
      "STYLE&OPTIONS       0.82      0.76      0.79      1516\n",
      "\n",
      "     accuracy                           0.80      6987\n",
      "    macro avg       0.85      0.70      0.74      6987\n",
      " weighted avg       0.81      0.80      0.80      6987\n",
      "\n"
     ]
    }
   ],
   "source": [
    "model_res.evaluate(df_res)"
   ]
  },
  {
   "cell_type": "code",
   "execution_count": 24,
   "metadata": {},
   "outputs": [],
   "source": [
    "df_rest_test = data_trans.load_to_df('data_Restaurant_test.txt')"
   ]
  },
  {
   "cell_type": "code",
   "execution_count": 59,
   "metadata": {},
   "outputs": [
    {
     "name": "stdout",
     "output_type": "stream",
     "text": [
      "              precision    recall  f1-score   support\n",
      "\n",
      "    negative       0.21      0.04      0.07       125\n",
      "     neutral       0.34      0.09      0.14       477\n",
      "    positive       0.71      0.95      0.81      1386\n",
      "\n",
      "    accuracy                           0.68      1988\n",
      "   macro avg       0.42      0.36      0.34      1988\n",
      "weighted avg       0.59      0.68      0.60      1988\n",
      "\n",
      "              precision    recall  f1-score   support\n",
      "\n",
      "    AMBIENCE       0.29      0.12      0.17       224\n",
      "      DRINKS       0.29      0.03      0.05       144\n",
      "        FOOD       0.53      0.87      0.66       981\n",
      "    LOCATION       0.58      0.22      0.32       166\n",
      "  RESTAURANT       0.28      0.13      0.18       340\n",
      "     SERVICE       0.23      0.08      0.11       133\n",
      "\n",
      "    accuracy                           0.49      1988\n",
      "   macro avg       0.37      0.24      0.25      1988\n",
      "weighted avg       0.43      0.49      0.41      1988\n",
      "\n",
      "               precision    recall  f1-score   support\n",
      "\n",
      "      GENERAL       0.46      0.52      0.49       707\n",
      "MISCELLANEOUS       0.33      0.01      0.02        96\n",
      "       PRICES       0.30      0.14      0.19       390\n",
      "      QUALITY       0.28      0.42      0.33       427\n",
      "STYLE&OPTIONS       0.25      0.25      0.25       368\n",
      "\n",
      "     accuracy                           0.35      1988\n",
      "    macro avg       0.32      0.27      0.26      1988\n",
      " weighted avg       0.34      0.35      0.33      1988\n",
      "\n"
     ]
    }
   ],
   "source": [
    "model_res.evaluate(df_rest_test)"
   ]
  },
  {
   "attachments": {},
   "cell_type": "markdown",
   "metadata": {},
   "source": [
    "We meet the same issue with hotel dataset.\n",
    "I think solution for this case ís make dataset more balanced, but don't scale down our dataset, we need more time to work with dataset."
   ]
  },
  {
   "attachments": {},
   "cell_type": "markdown",
   "metadata": {},
   "source": [
    "Test with 10 review from test data"
   ]
  },
  {
   "cell_type": "code",
   "execution_count": 26,
   "metadata": {},
   "outputs": [
    {
     "name": "stdout",
     "output_type": "stream",
     "text": [
      "#51\n",
      "Thèm bánh canh ghê mà ngày nào cũng có tô bánh canh hẹ này ăn là dzui đời gòi. Tô bánh canh hẹ 40k mà vô vàn chả cá (mặc dù hơi khô), trứng cút và 1 đống hẹ. Nước lèo thơm mùi chả cá và thanh, ko tanh. Dĩa bánh bèo 32k được 12 cái nhỏ mà bột dày quá, lại khô nữa, ko đáng tiền. Có điều thích mấy miếng bánh mì chiên trên mặt, ăn giòn rụm. Nước mắm pha ngon, vừa miệng. Dĩa bánh bột lọc 6 cái 36k ăn được hơn bánh bèo nhưng nếu bột mềm hơn tí nữa thì ngon hơn. Thích nhất là ở đây dùng mỡ hẹ, ko phải mỡ hành nên món nào cũng thơm phức mùi hẹ. Nói chung là quản bá đặc sản xứ Nẫu thành công nhóe 👍👄\n",
      "['{FOOD#QUALITY, positive}', '{FOOD#QUALITY, positive}', '{FOOD#QUALITY, positive}', '{FOOD#PRICES, positive}', '{RESTAURANT#GENERAL, positive}', '{FOOD#PRICES, positive}', '{SERVICE#GENERAL, positive}', '{FOOD#QUALITY, positive}', '{LOCATION#GENERAL, positive}']\n",
      "#52\n",
      "Chú bán món bánh bò lá dứa cũng khá lâu rồi đó, bán cố định thứ 2 từ 9h-12h đêm tại Ngã 4 Trần hưng đạo giao với Phùng hưng ngay khúc chợ vải , còn mấy ngày kia chú đẩy xe đi bán trên đường nguyễn trãi khúc bệnh viện nguyễn trãi ko cố định nha :)) bạn nào đi chơi đêm khuya ghé ủng hộ chú nha.   Mình ít thấy ai bán bánh bò màu xanh giống chú lắm toàn màu trắng thôi  Chú đang đổ bánh nóng, chú người Hoa dễ chịu lắm chụp hình là cho chụp liền bán hàng nói chuyện vui vẻ nữa.   Bánh nướng trên lò than   Tủ bánh của chú, sau 12h mà chưa bán hết thì chú đẩy xe đi vòng vòng bán tiếp nha chứ ko ở đây nữa.   Bánh bò lá dứa 25k/chục cái.  Bánh màu xanh lá dứa nhìn bắt mắt hen   Bánh mình đem về để hơi âm ấm ăn rất ngon, có vị béo từ dừa ko ngọt lắm nên ko gây ngán, nhưng mùi lá dứa hơi ít tí, bánh mềm dai. Chúc các bạn ăn ngon miệng.\n",
      "['{LOCATION#GENERAL, neutral}', '{FOOD#GENERAL, neutral}', '{LOCATION#GENERAL, neutral}', '{FOOD#STYLE&OPTIONS, positive}', '{FOOD#STYLE&OPTIONS, positive}', '{RESTAURANT#GENERAL, positive}']\n",
      "#53\n",
      "Dân xa quê lên Sài Gòn mưu sinh đã khó. Đối với những người lớn tuổi, ở cái tuổi xế chiều còn phải tìm cách mưu sinh kiếm sống càng khó hơn gấp nhiều lần. Mình vừa vô tình đi qua 1 xe bánh nhỏ của ông chú xa quê, nếu mọi người có đi ngang qua đây thì ủng hộ chú nhé. Cận tết rồi mà chú còn đang lo không có tiền về quê.   Bánh bông lan trứng muối có giá 30k/1 hộp. Nếu bạn không thích ăn trứng muối thì có thể kêu chú không để vào, thích ăn bánh bông lan không chú cũng làm luôn.   Chú chỉ có 1 khuôn thôi, đổ lần được 12 cái nhỏ.   1 mẻ vừa ra còn nóng luôn nè mọi người.   Bánh mịn lắm mọi người, chà bông mặn mặn do chính nhà làm, trứng muối làm cho bánh hấp dẫn hơn.   Bánh da lợn 15k/1 hộp 10 cái. Bánh bò nướng 5k/1 cái. Mình thích bánh da lợn hơn bánh bò, bánh dẻo dẻo có nhiều đậu xanh, ngọt dịu dễ ăn. Xe bánh của chú nằm kế tiệm chè Hà Ký, trong góc nhỏ, chạy nhanh quá thường không thấy xe của chú nhe mọi người.\n",
      "['{FOOD#QUALITY, negative}', '{FOOD#PRICES, negative}', '{LOCATION#GENERAL, negative}', '{AMBIENCE#GENERAL, neutral}', '{FOOD#STYLE&OPTIONS, positive}', '{FOOD#GENERAL, neutral}', '{FOOD#STYLE&OPTIONS, neutral}', '{FOOD#QUALITY, positive}', '{FOOD#PRICES, positive}', '{FOOD#STYLE&OPTIONS, neutral}', '{RESTAURANT#PRICES, negative}', '{LOCATION#STYLE&OPTIONS, neutral}', '{AMBIENCE#GENERAL, neutral}']\n",
      "#54\n",
      "Được biết chủ quán Làm từ nhà Hàng Hàn Quốc nay về mở Quán nhỏ chủ yếu phục vụ cho các bạn sinh viên, học sinh. Nên món ăn và giả cả củng rấất ok nhé. Có dịp các bạn cứ nghé ăn thử nhé, duới đây là hình mình nghé quán chụp cho các bạn xem: Bên ngoài quă ăn rất dễ tìm, bên trong trang trí dễ thương, sạch sẽ   Còn đây là cac món mình đã orther:   Bèo xải hản sản - 70K.   Súp bắp bò hầm miến - 65k.  Trứng hấp Hàn Quốc - 45k.   Ngoài ra quán còn phục vụ miễn phí chè trái cây ướp lạnh rấất ngon và lạ. (lo ăn mình quên chụp lại hihi). Hiện quán đang ưu đãi giá 30% trên tổng bill đến hết 28/2/2016.\n",
      "['{FOOD#QUALITY, neutral}', '{SERVICE#GENERAL, positive}', '{FOOD#STYLE&OPTIONS, positive}', '{FOOD#PRICES, positive}', '{RESTAURANT#STYLE&OPTIONS, positive}', '{DRINKS#STYLE&OPTIONS, positive}', '{FOOD#STYLE&OPTIONS, neutral}', '{RESTAURANT#PRICES, neutral}']\n",
      "#55\n",
      "Thèm bánh canh cua nên tìm đến đây ăn thử. Mới chừng 7g mấy là hết tôm rồi nên tô đầy đủ của mình có 2 miếng chả cua. Bánh canh ở đây ăn cũng bình thường, nước dùng nấu hơi ngọt. Thịt cua cũng tương đối nhưng vỏ cua còn sót nhiều quá. Nói chung ko ấn tượng, tô 45k ko gì hấp dẫn.\n",
      "['{FOOD#GENERAL, positive}', '{FOOD#PRICES, neutral}', '{AMBIENCE#STYLE&OPTIONS, neutral}', '{FOOD#PRICES, positive}', '{FOOD#QUALITY, positive}']\n",
      "#56\n",
      "Quán này bán bánh canh cũng khá có tiếng, thấy nhiều người ăn lắm. Quán không gian hơi chật và nhỏ, nhìn bình dân lắm nhưng giá thì hơi mắc, tô cỡ 35k - 40k. Bánh canh tô mình hay ăn tôm cua thì 40k, phục vụ cũng nhanh lắm nha. tuy là chỉ mấy cô lớn tuổi không thôi.  Bánh quẩy mang ra sắn, ăn thì 3k/dĩa.  1 tô được 3 con tôm với rất nhiều cua, nhìn ngon lắm cơ.  Tôm tươi lắm, ăn đã, cua thì ăn được thôi, không phải cua tươi sống luộc xé ra nên không ngọt thịt lắm. Nước thì nêm cũng ngon.  Thích nước mắm chanh ở đây, chấm ăn rất ngon.  Chả ở đây ăn cũng ngon đó nha, dai và mùi vị cũng lạ lạ.  Quán bán buổi sáng rất đông khách nên thường hết sớm. Giá không rẻ nhưng so với chất lượng thì cũng ổn, chứ giờ ăn rẻ quá cung sợ :))\n",
      "['{FOOD#STYLE&OPTIONS, positive}', '{FOOD#PRICES, neutral}', '{FOOD#STYLE&OPTIONS, positive}', '{RESTAURANT#GENERAL, positive}', '{SERVICE#QUALITY, neutral}', '{FOOD#STYLE&OPTIONS, positive}', '{FOOD#QUALITY, neutral}', '{SERVICE#QUALITY, positive}', '{RESTAURANT#STYLE&OPTIONS, positive}', '{FOOD#QUALITY, positive}', '{RESTAURANT#GENERAL, positive}', '{FOOD#PRICES, positive}']\n",
      "#57\n",
      "Bánh canh cua Quận 10 thì không thể không kể tới chỗ này được. Nhìn cục giò thôi là thèm thuồng rồi nha. Quán hơi xập xệ và nóng nực, gửi xe miễn phí ngay trong hẻm nhỏ xíu, bạn có thể ngồi bên trong hẻm hoặc quán ngay mặt tiền đầu hẻm đều được. Bán từ sáng khoảng 10h tới tối luôn nha. Giá 1 tô là 35k-45k tùy bạn ăn gì.  Ngoài giò, tôm, cua còn có chả cá   Chả cá ăn được thôi chứ ko ngon gì mấy   cua rất tươi và nhiều  Có quẩy thêm cho ai thích, tính tiền riêng.   Cua ngon lắm\n",
      "['{FOOD#GENERAL, positive}', '{RESTAURANT#QUALITY, positive}', '{LOCATION#STYLE&OPTIONS, positive}', '{SERVICE#PRICES, positive}', '{AMBIENCE#MISCELLANEOUS, neutral}', '{AMBIENCE#QUALITY, positive}', '{FOOD#QUALITY, positive}']\n",
      "#58\n",
      "Hôm qua đi xem phim cùng bb ở Galaxy Nguyễn Trãi thì phát hiện có quán ăn chuyên Hàn Quốc mới khai trương, thế là vào ăn thử liền. Món ăn ngon, giá củng rẻ, ăn no luôn mỗi ngườời chưa tới 100k. Địa chỉ:\n",
      "['{RESTAURANT#GENERAL, positive}', '{SERVICE#GENERAL, positive}', '{FOOD#PRICES, positive}']\n",
      "#59\n",
      "chổ này gần nhà mình nên ghé thử, quán thoáng mát, nhân viên phục vụ chu đáo, món ăn vừa túi sinh viên! có mấy món lạ nữa kết nhất là cái cánh vịt đó\n",
      "['{AMBIENCE#GENERAL, neutral}', '{RESTAURANT#QUALITY, neutral}']\n",
      "#60\n",
      "Đi ngang đường Vạn Kiếp hoài lúc nào cũng thấy quán bánh canh này đông đúc hết á, sẵn hôm nay đang thèm bánh canh bột gạo nên bạn mình rủ vào ăn luôn. Quán cực kì đông có bàn ngồi ngoài và trong nhưng hơi dơ xíu nhưng bù lại tô bánh canh giá bình dân mà cực kì chất lượng luôn   Mình ngồi ăn có chút mà nhìn chị múc bánh canh ko ngơi tay luôn  Ngoài giò nạc huyết da heo còn có chả huế, chả cua , trứng cút ăn kèm nha  Trên bàn là chén mắm ớt nhìn là thấy ngon rồi :D  2 tô bánh canh có giò của tụi mình 25k 1 tô   Tô bánh canh đầy ắp ngập tràn đồ ăn hen Cục xương nạc to chà bá luôn, thịt hầm mềm có sụn ăn sựt sựt ngon nha Hay là giò nạc vừa thịt vừa mỡ nè  Thịt càng cúm, 1 tô cũng được 4-5 cái luôn thịt cúm tươi ngon Chả lụa huế và chả cua. Chả dai thơm mùi tiêu cay cay Huyết to mềm  Bánh canh bột gạo xắt nhà làm, cọng bánh canh dày mảng bự nên dai dẻo lắm, có điều bánh trong tô hơi ít. Mình thích ăn cọng bánh canh này hơn bánh canh thường trong trong Nước súp ngọt thanh đậm đà hen, nước sền sệt đặc trưng của món bánh canh bột gạo này nha. Nêm thêm xíu ớt cay cay sẽ ngon hơn Quán đông nên phục vụ ko được chu đáo lắm, giữ xe free\n",
      "['{FOOD#GENERAL, positive}', '{FOOD#QUALITY, positive}', '{FOOD#QUALITY, neutral}', '{FOOD#QUALITY, positive}', '{RESTAURANT#GENERAL, positive}']\n"
     ]
    }
   ],
   "source": [
    "textlist = data_trans.read_text_only('data_Restaurant_test.txt')\n",
    "for i in range(50,60):\n",
    "    print(f'#{i+1}')\n",
    "    text = textlist[i]\n",
    "    print(text)\n",
    "    print(str(model_res.detail_predict(text)))"
   ]
  },
  {
   "attachments": {},
   "cell_type": "markdown",
   "metadata": {},
   "source": [
    "# Conclusion\n",
    "Our special logistic regression model solved aspect base sentiment analysis problem, althought performance not good, but there are many way to improve it in future.\n",
    "\n",
    "---\n",
    "\n",
    "# Thank for you reading."
   ]
  }
 ],
 "metadata": {
  "kernelspec": {
   "display_name": "Python 3",
   "language": "python",
   "name": "python3"
  },
  "language_info": {
   "codemirror_mode": {
    "name": "ipython",
    "version": 3
   },
   "file_extension": ".py",
   "mimetype": "text/x-python",
   "name": "python",
   "nbconvert_exporter": "python",
   "pygments_lexer": "ipython3",
   "version": "3.10.11"
  },
  "orig_nbformat": 4
 },
 "nbformat": 4,
 "nbformat_minor": 2
}
