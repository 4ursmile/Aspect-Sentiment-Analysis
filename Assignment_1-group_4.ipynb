{
 "cells": [
  {
   "attachments": {},
   "cell_type": "markdown",
   "metadata": {},
   "source": [
    "# Aspect sentiment anlysis (Vietnamese)"
   ]
  },
  {
   "attachments": {},
   "cell_type": "markdown",
   "metadata": {},
   "source": [
    "## import requirement library"
   ]
  },
  {
   "cell_type": "code",
   "execution_count": 1,
   "metadata": {},
   "outputs": [],
   "source": [
    "from underthesea import sent_tokenize\n",
    "import pandas as pd\n",
    "from pyvi import ViTokenizer\n",
    "import re\n",
    "import matplotlib.pyplot as plt\n",
    "import seaborn as sns\n",
    "sns.set_style('whitegrid')\n",
    "%matplotlib inline      "
   ]
  },
  {
   "attachments": {},
   "cell_type": "markdown",
   "metadata": {},
   "source": [
    "## Data-transformer class\n",
    "\n",
    "this class allows us work with specific dataset in this case. You can read some data file in same repo to understand it's structure\n",
    "\n",
    "---\n",
    "### Descibe data\n",
    "in each record \n",
    "* first line is number of record, it's start by # follow a number.\n",
    "* second line is text.\n",
    "* third line is aspect sentiment analyst has structure like {ENTITY#ATTRIBUTE, SENTIMENT} "
   ]
  },
  {
   "cell_type": "code",
   "execution_count": 6,
   "metadata": {},
   "outputs": [],
   "source": [
    "class Data_transformer:\n",
    "    def __init__(self) -> None:\n",
    "        self.__tokenizer = ViTokenizer\n",
    "        pass\n",
    "    def __removepunc(self, text):\n",
    "        \n",
    "        return re.sub(r'[^\\w\\s]','',text)\n",
    "    def __tokenize(self, text):\n",
    "        return self.__tokenizer.tokenize(text)\n",
    "    def text_preprocessing(self, text):\n",
    "        \"\"\"_summary_\n",
    "            Preprocessing function, this function include three step:\n",
    "            * tokenize text (for Vietnamese),\n",
    "            * remove punctuation,\n",
    "            * lower_case text.\n",
    "            * return result\n",
    "        \n",
    "        Args:\n",
    "            text (string): raw test\n",
    "\n",
    "        Returns:\n",
    "            string: text's preprocessed\n",
    "        \"\"\"\n",
    "        text_token = self.__tokenize(text)\n",
    "        text_remove_punc = self.__removepunc(text_token)\n",
    "        return text_remove_punc.lower()\n",
    "    def read_text_only(self, filename):\n",
    "        \"\"\"_summary_\n",
    "            This function will read only text in raw .txt file\n",
    "       \n",
    "        Args:\n",
    "            filename (string): path to data file\n",
    "\n",
    "        Returns:\n",
    "            list: list of raw text\n",
    "        \"\"\"\n",
    "        texts = []\n",
    "        with open(filename, 'r', encoding='utf-8') as f:\n",
    "            lines = filter(None, (line.rstrip() for line in f))\n",
    "            for line in lines:\n",
    "                line = line.strip()\n",
    "                if line.startswith('#'):\n",
    "                    pass\n",
    "                elif line.startswith('{') and line.endswith('}'):\n",
    "                    pass\n",
    "                else:\n",
    "                    texts.append(line)\n",
    "        return texts\n",
    "    def load_data(self, filename):\n",
    "        \"\"\"_summary_\n",
    "            This function return data represent in 2d list.\n",
    "            it has exactly 4 column incude: text, sentiment, entity and attribute. \n",
    "            *Remember each text will be seperated into many sentences.\n",
    "        \n",
    "        Args:\n",
    "            filename (string): path to data\n",
    "\n",
    "        Returns:\n",
    "            list: 2d list for all record\n",
    "        \"\"\"\n",
    "        data = []\n",
    "        with open(filename, 'r', encoding='utf-8') as f:\n",
    "            index = 0\n",
    "            texts = []\n",
    "            for line in f:\n",
    "                line = line.strip()\n",
    "                if line.startswith('#'):\n",
    "                    #index = int(line[1:])\n",
    "                    pass\n",
    "                elif line.startswith('{') and line.endswith('}'):\n",
    "                    aspects = re.findall(r'{(.+?),\\s*(.+?)}', line)\n",
    "                    min_len = len(aspects) if len(aspects)<len(texts) else len(texts) \n",
    "                    for i in range(min_len):\n",
    "                        aspect, sentiment = aspects[i]\n",
    "                        text = texts[i]\n",
    "                        s_attribute = aspect.split('#')\n",
    "                        data_line = [self.text_preprocessing(text), sentiment, s_attribute[0], s_attribute[1]]\n",
    "                        data.append(data_line) \n",
    "                else:\n",
    "                    texts = sent_tokenize(line)\n",
    "        return data\n",
    "    def load_to_df(self, filename, columns = ['text', 'label', 'entity', 'attribute']):\n",
    "        \"\"\"_summary_\n",
    "        \n",
    "            This function return pandas dataframe.\n",
    "            it has exactly 4 column incude: text, sentiment, entity and attribute. \n",
    "            *Remember each text will be seperated into many sentences.\n",
    "        \n",
    "        Args:\n",
    "            filename (string): path to data\n",
    "            columns (list): list of column's name.\n",
    "        Returns:\n",
    "            list: pandas dataframe\n",
    "        \"\"\"\n",
    "        data = self.load_data(filename)\n",
    "        df = pd.DataFrame(data=data, columns=columns)\n",
    "        return df\n",
    "    def text2feature(self, text):\n",
    "        \"\"\"_summary_\n",
    "            This function will break a normal text into list of sentences and preprocess each sentences\n",
    "        \n",
    "        Args:\n",
    "            text (string): raw text\n",
    "\n",
    "        Returns:\n",
    "            list: list of sentences's preprocessed\n",
    "        \"\"\"\n",
    "        list_f = []\n",
    "        list_text = sent_tokenize(text)\n",
    "        for text in list_text:\n",
    "            list_f.append(self.text_preprocessing(text))\n",
    "        return list_f"
   ]
  },
  {
   "attachments": {},
   "cell_type": "markdown",
   "metadata": {},
   "source": [
    "## Naives bayes model\n",
    "This class is naive bayes model (aspect-sentiment_analyst approach) use bag of word as features \n",
    "Note that this class work for this data inclute 3 layer ENTITY, ATRIBUTE and SENTIMENT"
   ]
  },
  {
   "cell_type": "code",
   "execution_count": 7,
   "metadata": {},
   "outputs": [],
   "source": [
    "from sklearn.feature_extraction.text import CountVectorizer\n",
    "from sklearn.feature_extraction.text import TfidfTransformer\n",
    "from sklearn.naive_bayes import MultinomialNB\n",
    "from sklearn.pipeline import Pipeline\n",
    "from sklearn.metrics import classification_report\n",
    "class Aspect_nb_model:\n",
    "    def __init__(self) -> None:\n",
    "        self.data_trans = Data_transformer()\n",
    "        self.pineline = Pipeline([\n",
    "            ('cv', CountVectorizer()),\n",
    "            ('nb', MultinomialNB())\n",
    "        ])\n",
    "        pass\n",
    "    def fit3layer(self, df:pd.DataFrame):\n",
    "        \"\"\"_summary_\n",
    "            ***IMPORTANT***\n",
    "            This is a main fit function to work for aspect sentiment analysis, it will fit for all 3-layer.\n",
    "            Wanna predict, evaluate each aspect? Pls call .pipeline_<element>.<attribute> you want to work. \n",
    "            Note that you have to call this function before you want to use these attribute.\n",
    "            <element> include [sen, entity, attribute]\n",
    "        \n",
    "        Args:\n",
    "            pandas.DataFrame : a dataframe to fit for this model, you dont need to seperate into features and label, just pass dataframe, it auto do it for you.\n",
    "            ***IMPORTANT***\n",
    "            Dataframe must be a result of Data_transformer class\n",
    "        \"\"\"\n",
    "        list_of_name = df.columns\n",
    "        X = df[list_of_name[0]]\n",
    "        y_sen = df[list_of_name[1]]\n",
    "        y_entity = df[list_of_name[2]]\n",
    "        y_attr = df[list_of_name[3]]\n",
    "        self.pineline_sen = Pipeline([\n",
    "            ('cv', CountVectorizer()),\n",
    "            ('nb', MultinomialNB())\n",
    "        ]) \n",
    "        self.pineline_sen.fit(X, y_sen)\n",
    "\n",
    "        self.pineline_entity = Pipeline([\n",
    "            ('cv', CountVectorizer()),\n",
    "            ('nb', MultinomialNB())\n",
    "        ]) \n",
    "        self.pineline_entity.fit(X, y_entity)\n",
    "\n",
    "        self.pineline_attr = Pipeline([\n",
    "            ('cv', CountVectorizer()),\n",
    "            ('nb', MultinomialNB())\n",
    "        ]) \n",
    "        self.pineline_attr.fit(X, y_attr)\n",
    "        pass \n",
    "    def fit_mono(self, X_, y_)->None:\n",
    "        \"\"\"_summary_\n",
    "            Fit for specific class you want, if you want use this model simply call .pipeline.<attribute you want>\n",
    "        \n",
    "        Args:\n",
    "            X_ (_type_): _description_\n",
    "            y_ (_type_): _description_\n",
    "        \"\"\"\n",
    "        X = X_\n",
    "        y = y_ \n",
    "        self.pineline.fit(X, y)\n",
    "        pass\n",
    "    def evaluate(self, df)->None:\n",
    "        \"\"\"_summary_\n",
    "        This will evalute 3 layer inclute sentiment, entity and attribute\n",
    "        \n",
    "        Args:\n",
    "            dataframe: test dataframe\n",
    "        \"\"\"\n",
    "        X = df['text']\n",
    "        y_sen_true = df['label']\n",
    "        y_sen_pred = self.pineline_sen.predict(X)\n",
    "\n",
    "        y_entity_true = df['entity']\n",
    "        y_entity_pred = self.pineline_entity.predict(X)\n",
    "        \n",
    "        y_attr_true = df['attribute']\n",
    "        y_attr_pred = self.pineline_attr.predict(X)\n",
    "        print(classification_report(y_sen_true, y_sen_pred))\n",
    "        print(classification_report(y_entity_true, y_entity_pred))\n",
    "        print(classification_report(y_attr_true, y_attr_pred))\n",
    "    def _class_report\n",
    "    def detail_predict(self, text):\n",
    "        \"\"\"_summary_\n",
    "            This function will predict aspect sentiment for a text, include entity, attribute and sentimet. \n",
    "            Structure of predict will be like this {ENTITY#ATTRIBUTE, SENTIMENT}\n",
    "        \n",
    "        Args:\n",
    "            text (string): text you want predict\n",
    "\n",
    "        Returns:\n",
    "            aspect-sentiment anlyst: list of sentiment-analys have structure like i describe above\n",
    "        \"\"\"\n",
    "        aspect_l = []\n",
    "        texts = self.data_trans.text2feature(text)\n",
    "        for text in texts:\n",
    "            entity = self.pineline_entity.predict([text])\n",
    "            attr = self.pineline_attr.predict([text])\n",
    "            sen = self.pineline_sen.predict([text])\n",
    "            aspect_l.append(f'{{{entity[0]}#{attr[0]}, {sen[0]}}}')\n",
    "        return aspect_l"
   ]
  },
  {
   "attachments": {},
   "cell_type": "markdown",
   "metadata": {},
   "source": [
    "## Hotel dataset \n",
    "Work with hotel dataset"
   ]
  },
  {
   "cell_type": "code",
   "execution_count": 15,
   "metadata": {},
   "outputs": [
    {
     "data": {
      "text/html": [
       "<div>\n",
       "<style scoped>\n",
       "    .dataframe tbody tr th:only-of-type {\n",
       "        vertical-align: middle;\n",
       "    }\n",
       "\n",
       "    .dataframe tbody tr th {\n",
       "        vertical-align: top;\n",
       "    }\n",
       "\n",
       "    .dataframe thead th {\n",
       "        text-align: right;\n",
       "    }\n",
       "</style>\n",
       "<table border=\"1\" class=\"dataframe\">\n",
       "  <thead>\n",
       "    <tr style=\"text-align: right;\">\n",
       "      <th></th>\n",
       "      <th>text</th>\n",
       "      <th>label</th>\n",
       "      <th>entity</th>\n",
       "      <th>attribute</th>\n",
       "    </tr>\n",
       "  </thead>\n",
       "  <tbody>\n",
       "    <tr>\n",
       "      <th>0</th>\n",
       "      <td>rộng_rãi ks mới nhưng rất vắng</td>\n",
       "      <td>positive</td>\n",
       "      <td>HOTEL</td>\n",
       "      <td>DESIGN&amp;FEATURES</td>\n",
       "    </tr>\n",
       "    <tr>\n",
       "      <th>1</th>\n",
       "      <td>các dịch_vụ chất_lượng chưa cao và thiếu</td>\n",
       "      <td>negative</td>\n",
       "      <td>HOTEL</td>\n",
       "      <td>GENERAL</td>\n",
       "    </tr>\n",
       "    <tr>\n",
       "      <th>2</th>\n",
       "      <td>địa_điểm thuận_tiện  trong vòng bán_kính 15 km...</td>\n",
       "      <td>positive</td>\n",
       "      <td>LOCATION</td>\n",
       "      <td>GENERAL</td>\n",
       "    </tr>\n",
       "    <tr>\n",
       "      <th>3</th>\n",
       "      <td>phục_vụ  view đẹp  vị_trí</td>\n",
       "      <td>positive</td>\n",
       "      <td>SERVICE</td>\n",
       "      <td>GENERAL</td>\n",
       "    </tr>\n",
       "    <tr>\n",
       "      <th>4</th>\n",
       "      <td>thuận_tiện  sạch_sẽ  vui_vẻ hài_lòng</td>\n",
       "      <td>positive</td>\n",
       "      <td>HOTEL</td>\n",
       "      <td>COMFORT</td>\n",
       "    </tr>\n",
       "  </tbody>\n",
       "</table>\n",
       "</div>"
      ],
      "text/plain": [
       "                                                text     label    entity  \\\n",
       "0                    rộng_rãi ks mới nhưng rất vắng   positive     HOTEL   \n",
       "1          các dịch_vụ chất_lượng chưa cao và thiếu   negative     HOTEL   \n",
       "2  địa_điểm thuận_tiện  trong vòng bán_kính 15 km...  positive  LOCATION   \n",
       "3                          phục_vụ  view đẹp  vị_trí  positive   SERVICE   \n",
       "4               thuận_tiện  sạch_sẽ  vui_vẻ hài_lòng  positive     HOTEL   \n",
       "\n",
       "         attribute  \n",
       "0  DESIGN&FEATURES  \n",
       "1          GENERAL  \n",
       "2          GENERAL  \n",
       "3          GENERAL  \n",
       "4          COMFORT  "
      ]
     },
     "execution_count": 15,
     "metadata": {},
     "output_type": "execute_result"
    }
   ],
   "source": [
    "data_trans = Data_transformer()\n",
    "df = data_trans.load_to_df('data_hotel_train.txt')\n",
    "df.head(5)"
   ]
  },
  {
   "cell_type": "code",
   "execution_count": 18,
   "metadata": {},
   "outputs": [
    {
     "data": {
      "image/png": "[encoded data removed]",
      "text/plain": [
       "<Figure size 640x480 with 1 Axes>"
      ]
     },
     "metadata": {},
     "output_type": "display_data"
    }
   ],
   "source": [
    "sns.countplot(df,x='label')\n",
    "plt.title(\"Count sentiment in hotel dataset\")\n",
    "plt.show()"
   ]
  },
  {
   "cell_type": "code",
   "execution_count": 30,
   "metadata": {},
   "outputs": [
    {
     "data": {
      "image/png": "[encoded data removed]",
      "text/plain": [
       "<Figure size 1200x600 with 1 Axes>"
      ]
     },
     "metadata": {},
     "output_type": "display_data"
    }
   ],
   "source": [
    "plt.figure(figsize=(12,6))\n",
    "sns.countplot(df,x='entity')\n",
    "plt.title(\"Count entitys in hotel dataset\")\n",
    "plt.show()"
   ]
  },
  {
   "cell_type": "code",
   "execution_count": 45,
   "metadata": {},
   "outputs": [
    {
     "data": {
      "image/png": "[encoded data removed]",
      "text/plain": [
       "<Figure size 1200x600 with 1 Axes>"
      ]
     },
     "metadata": {},
     "output_type": "display_data"
    }
   ],
   "source": [
    "plt.figure(figsize=(12,6))\n",
    "sns.countplot(df,x='attribute')\n",
    "plt.title(\"Count attribute in hotel dataset\")\n",
    "plt.show()"
   ]
  },
  {
   "attachments": {},
   "cell_type": "markdown",
   "metadata": {},
   "source": [
    "### Fit model"
   ]
  },
  {
   "cell_type": "code",
   "execution_count": 11,
   "metadata": {},
   "outputs": [],
   "source": [
    "model = Aspect_nb_model()\n",
    "model.fit3layer(df)"
   ]
  },
  {
   "attachments": {},
   "cell_type": "markdown",
   "metadata": {},
   "source": [
    "Try to aspect sentiment analyst in specific text"
   ]
  },
  {
   "cell_type": "code",
   "execution_count": 38,
   "metadata": {},
   "outputs": [
    {
     "data": {
      "text/plain": [
       "['{HOTEL#PRICES, positive}',\n",
       " '{ROOMS#CLEANLINESS, positive}',\n",
       " '{HOTEL#COMFORT, positive}',\n",
       " '{HOTEL#GENERAL, positive}']"
      ]
     },
     "execution_count": 38,
     "metadata": {},
     "output_type": "execute_result"
    }
   ],
   "source": [
    "model.detail_predict(\"Giá cả khá mềm, hợp với túi tiền. Phòng sạch, gọn gàng. Tôi khá hài lòng với Khách sạn này trong kỳ nghỉ vừa rồi. Rất cảm ơn Mytour đã hỗ trợ.\")"
   ]
  },
  {
   "cell_type": "code",
   "execution_count": 39,
   "metadata": {},
   "outputs": [
    {
     "data": {
      "text/html": [
       "<div>\n",
       "<style scoped>\n",
       "    .dataframe tbody tr th:only-of-type {\n",
       "        vertical-align: middle;\n",
       "    }\n",
       "\n",
       "    .dataframe tbody tr th {\n",
       "        vertical-align: top;\n",
       "    }\n",
       "\n",
       "    .dataframe thead th {\n",
       "        text-align: right;\n",
       "    }\n",
       "</style>\n",
       "<table border=\"1\" class=\"dataframe\">\n",
       "  <thead>\n",
       "    <tr style=\"text-align: right;\">\n",
       "      <th></th>\n",
       "      <th>text</th>\n",
       "      <th>label</th>\n",
       "      <th>entity</th>\n",
       "      <th>attribute</th>\n",
       "    </tr>\n",
       "  </thead>\n",
       "  <tbody>\n",
       "    <tr>\n",
       "      <th>0</th>\n",
       "      <td>ga giường không sạch  nhân_viên quên dọn phòng...</td>\n",
       "      <td>negative</td>\n",
       "      <td>ROOM_AMENITIES</td>\n",
       "      <td>CLEANLINESS</td>\n",
       "    </tr>\n",
       "    <tr>\n",
       "      <th>1</th>\n",
       "      <td>nv nhiệt_tình  phòng ở sạch_sẽ  tiện_nghi  vị_...</td>\n",
       "      <td>positive</td>\n",
       "      <td>SERVICE</td>\n",
       "      <td>GENERAL</td>\n",
       "    </tr>\n",
       "    <tr>\n",
       "      <th>2</th>\n",
       "      <td>đi bộ ra biển gần  tiện đi_lại phòng view biển...</td>\n",
       "      <td>positive</td>\n",
       "      <td>LOCATION</td>\n",
       "      <td>GENERAL</td>\n",
       "    </tr>\n",
       "    <tr>\n",
       "      <th>3</th>\n",
       "      <td>tất_cả mọi thứ đều sạch_sẽ  giường ngủ rất tho...</td>\n",
       "      <td>positive</td>\n",
       "      <td>HOTEL</td>\n",
       "      <td>CLEANLINESS</td>\n",
       "    </tr>\n",
       "    <tr>\n",
       "      <th>4</th>\n",
       "      <td>không có quạt_điện mà chỉ có_điều hòa nên có c...</td>\n",
       "      <td>positive</td>\n",
       "      <td>ROOM_AMENITIES</td>\n",
       "      <td>COMFORT</td>\n",
       "    </tr>\n",
       "  </tbody>\n",
       "</table>\n",
       "</div>"
      ],
      "text/plain": [
       "                                                text     label  \\\n",
       "0  ga giường không sạch  nhân_viên quên dọn phòng...  negative   \n",
       "1  nv nhiệt_tình  phòng ở sạch_sẽ  tiện_nghi  vị_...  positive   \n",
       "2  đi bộ ra biển gần  tiện đi_lại phòng view biển...  positive   \n",
       "3  tất_cả mọi thứ đều sạch_sẽ  giường ngủ rất tho...  positive   \n",
       "4  không có quạt_điện mà chỉ có_điều hòa nên có c...  positive   \n",
       "\n",
       "           entity    attribute  \n",
       "0  ROOM_AMENITIES  CLEANLINESS  \n",
       "1         SERVICE      GENERAL  \n",
       "2        LOCATION      GENERAL  \n",
       "3           HOTEL  CLEANLINESS  \n",
       "4  ROOM_AMENITIES      COMFORT  "
      ]
     },
     "execution_count": 39,
     "metadata": {},
     "output_type": "execute_result"
    }
   ],
   "source": [
    "df_test = data_trans.load_to_df('data_hotel_test.txt')\n",
    "df_test.head(5)"
   ]
  },
  {
   "cell_type": "code",
   "execution_count": 40,
   "metadata": {},
   "outputs": [
    {
     "name": "stdout",
     "output_type": "stream",
     "text": [
      "              precision    recall  f1-score   support\n",
      "\n",
      "    negative       0.63      0.60      0.61      1679\n",
      "     neutral       0.73      0.10      0.18       373\n",
      "    positive       0.87      0.93      0.90      6670\n",
      "\n",
      "    accuracy                           0.83      8722\n",
      "   macro avg       0.75      0.54      0.56      8722\n",
      "weighted avg       0.82      0.83      0.81      8722\n",
      "\n",
      "                precision    recall  f1-score   support\n",
      "\n",
      "    FACILITIES       0.64      0.29      0.40       797\n",
      "   FOOD&DRINKS       0.50      0.33      0.40       688\n",
      "         HOTEL       0.53      0.77      0.62      2857\n",
      "      LOCATION       0.47      0.52      0.50       865\n",
      "         ROOMS       0.48      0.50      0.49      1757\n",
      "ROOM_AMENITIES       0.74      0.19      0.30       580\n",
      "       SERVICE       0.48      0.33      0.39      1178\n",
      "\n",
      "      accuracy                           0.51      8722\n",
      "     macro avg       0.55      0.42      0.44      8722\n",
      "  weighted avg       0.53      0.51      0.49      8722\n",
      "\n",
      "                 precision    recall  f1-score   support\n",
      "\n",
      "    CLEANLINESS       0.73      0.17      0.27       826\n",
      "        COMFORT       0.52      0.42      0.47      1140\n",
      "DESIGN&FEATURES       0.52      0.58      0.55      1873\n",
      "        GENERAL       0.53      0.81      0.64      3243\n",
      "  MISCELLANEOUS       1.00      0.03      0.05        71\n",
      "         PRICES       0.72      0.16      0.26       421\n",
      "        QUALITY       0.56      0.30      0.39       876\n",
      "  STYLE&OPTIONS       0.69      0.15      0.25       272\n",
      "\n",
      "       accuracy                           0.54      8722\n",
      "      macro avg       0.66      0.33      0.36      8722\n",
      "   weighted avg       0.57      0.54      0.50      8722\n",
      "\n"
     ]
    }
   ],
   "source": [
    "model.evaluate(df)"
   ]
  },
  {
   "cell_type": "code",
   "execution_count": 41,
   "metadata": {},
   "outputs": [
    {
     "name": "stdout",
     "output_type": "stream",
     "text": [
      "              precision    recall  f1-score   support\n",
      "\n",
      "    negative       0.41      0.65      0.51       231\n",
      "     neutral       0.00      0.00      0.00        84\n",
      "    positive       0.88      0.85      0.86      1154\n",
      "\n",
      "    accuracy                           0.77      1469\n",
      "   macro avg       0.43      0.50      0.46      1469\n",
      "weighted avg       0.76      0.77      0.76      1469\n",
      "\n",
      "                precision    recall  f1-score   support\n",
      "\n",
      "    FACILITIES       0.15      0.03      0.05        68\n",
      "   FOOD&DRINKS       0.44      0.27      0.34       143\n",
      "         HOTEL       0.34      0.52      0.41       290\n",
      "      LOCATION       0.41      0.35      0.37       153\n",
      "         ROOMS       0.35      0.56      0.43       356\n",
      "ROOM_AMENITIES       0.43      0.09      0.15       183\n",
      "       SERVICE       0.47      0.29      0.36       276\n",
      "\n",
      "      accuracy                           0.37      1469\n",
      "     macro avg       0.37      0.30      0.30      1469\n",
      "  weighted avg       0.38      0.37      0.34      1469\n",
      "\n",
      "                 precision    recall  f1-score   support\n",
      "\n",
      "    CLEANLINESS       0.29      0.08      0.13       195\n",
      "        COMFORT       0.18      0.05      0.08       149\n",
      "DESIGN&FEATURES       0.34      0.56      0.42       279\n",
      "        GENERAL       0.51      0.72      0.59       569\n",
      "  MISCELLANEOUS       0.00      0.00      0.00        31\n",
      "         PRICES       0.00      0.00      0.00        54\n",
      "        QUALITY       0.37      0.22      0.28       134\n",
      "  STYLE&OPTIONS       0.60      0.05      0.10        58\n",
      "\n",
      "       accuracy                           0.42      1469\n",
      "      macro avg       0.28      0.21      0.20      1469\n",
      "   weighted avg       0.37      0.42      0.36      1469\n",
      "\n"
     ]
    },
    {
     "name": "stderr",
     "output_type": "stream",
     "text": [
      "C:\\Users\\drawt\\AppData\\Local\\Packages\\PythonSoftwareFoundation.Python.3.10_qbz5n2kfra8p0\\LocalCache\\local-packages\\Python310\\site-packages\\sklearn\\metrics\\_classification.py:1344: UndefinedMetricWarning: Precision and F-score are ill-defined and being set to 0.0 in labels with no predicted samples. Use `zero_division` parameter to control this behavior.\n",
      "  _warn_prf(average, modifier, msg_start, len(result))\n",
      "C:\\Users\\drawt\\AppData\\Local\\Packages\\PythonSoftwareFoundation.Python.3.10_qbz5n2kfra8p0\\LocalCache\\local-packages\\Python310\\site-packages\\sklearn\\metrics\\_classification.py:1344: UndefinedMetricWarning: Precision and F-score are ill-defined and being set to 0.0 in labels with no predicted samples. Use `zero_division` parameter to control this behavior.\n",
      "  _warn_prf(average, modifier, msg_start, len(result))\n",
      "C:\\Users\\drawt\\AppData\\Local\\Packages\\PythonSoftwareFoundation.Python.3.10_qbz5n2kfra8p0\\LocalCache\\local-packages\\Python310\\site-packages\\sklearn\\metrics\\_classification.py:1344: UndefinedMetricWarning: Precision and F-score are ill-defined and being set to 0.0 in labels with no predicted samples. Use `zero_division` parameter to control this behavior.\n",
      "  _warn_prf(average, modifier, msg_start, len(result))\n"
     ]
    }
   ],
   "source": [
    "model.evaluate(df_test)"
   ]
  },
  {
   "attachments": {},
   "cell_type": "markdown",
   "metadata": {},
   "source": [
    "Test with 10 review from test data"
   ]
  },
  {
   "cell_type": "code",
   "execution_count": 42,
   "metadata": {},
   "outputs": [
    {
     "name": "stdout",
     "output_type": "stream",
     "text": [
      "#1\n",
      "﻿#1\n",
      "['{HOTEL#GENERAL, positive}']\n",
      "#2\n",
      "Ga giường không sạch, nhân viên quên dọn phòng một ngày.\n",
      "['{ROOMS#CLEANLINESS, negative}']\n",
      "#3\n",
      "Nv nhiệt tình, phòng ở sạch sẽ, tiện nghi, vị trí khá thuận tiện cho việc di chuyển đến các địa điểm ăn + chơi Phòng có gián\n",
      "['{LOCATION#GENERAL, positive}']\n",
      "#4\n",
      "Đi bộ ra biển gần, tiện đi lại Phòng view biển nhưng cửa sổ view biển khá bé\n",
      "['{LOCATION#GENERAL, positive}']\n",
      "#5\n",
      "Tất cả mọi thứ đều sạch sẽ, giường ngủ rất thoải mái. Không có quạt điện mà chỉ có điều hòa nên có chút bất tiện.\n",
      "['{HOTEL#COMFORT, positive}', '{ROOMS#GENERAL, negative}']\n",
      "#6\n",
      "Giường sạch sẽ, thoải mái, đầy đủ thiết bị cần thiết, ăn cũng trang bị sẵn nếu bạn lười Phòng tắm chưa chia được ko gian khô và ướt\n",
      "['{ROOMS#DESIGN&FEATURES, negative}']\n",
      "#7\n",
      "phòng ốc mới, sang trọng, giường thoải mái, sạch sẽ Chỗ để xe hơi chật chọi\n",
      "['{ROOMS#DESIGN&FEATURES, positive}']\n",
      "#8\n",
      "Khăn tắm cũ, dơ. Đồ dùng trong toilet là đồ sử dụng lại. Không phải đồ nguyên seal\n",
      "['{ROOMS#GENERAL, negative}', '{ROOM_AMENITIES#QUALITY, negative}', '{FOOD&DRINKS#GENERAL, negative}']\n",
      "#9\n",
      "Phòng đẹp , sạch sẽ và gần biển . Nhân viên dễ thương . Phòng không có view biển như lúc đặt , Tv hay mất cáp .\n",
      "['{ROOMS#DESIGN&FEATURES, positive}', '{HOTEL#GENERAL, positive}', '{ROOMS#DESIGN&FEATURES, negative}']\n",
      "#10\n",
      "Rộng rãi, sạch sẽ. Có chỗ trong phòng không bắt được wifi\n",
      "['{ROOMS#DESIGN&FEATURES, positive}', '{ROOMS#QUALITY, negative}']\n"
     ]
    }
   ],
   "source": [
    "textlist = data_trans.read_text_only('data_hotel_test.txt')\n",
    "for i in range(10):\n",
    "    print(f'#{i+1}')\n",
    "    text = textlist[i]\n",
    "    print(text)\n",
    "    print(str(model.detail_predict(text)))\n",
    "    "
   ]
  },
  {
   "attachments": {},
   "cell_type": "markdown",
   "metadata": {},
   "source": [
    "## Restaurant"
   ]
  },
  {
   "cell_type": "code",
   "execution_count": 43,
   "metadata": {},
   "outputs": [
    {
     "data": {
      "text/html": [
       "<div>\n",
       "<style scoped>\n",
       "    .dataframe tbody tr th:only-of-type {\n",
       "        vertical-align: middle;\n",
       "    }\n",
       "\n",
       "    .dataframe tbody tr th {\n",
       "        vertical-align: top;\n",
       "    }\n",
       "\n",
       "    .dataframe thead th {\n",
       "        text-align: right;\n",
       "    }\n",
       "</style>\n",
       "<table border=\"1\" class=\"dataframe\">\n",
       "  <thead>\n",
       "    <tr style=\"text-align: right;\">\n",
       "      <th></th>\n",
       "      <th>text</th>\n",
       "      <th>label</th>\n",
       "      <th>entity</th>\n",
       "      <th>attribute</th>\n",
       "    </tr>\n",
       "  </thead>\n",
       "  <tbody>\n",
       "    <tr>\n",
       "      <th>0</th>\n",
       "      <td>_ ảnh chụp từ hôm_qua  đi chơi với gia_đình và...</td>\n",
       "      <td>neutral</td>\n",
       "      <td>FOOD</td>\n",
       "      <td>STYLE&amp;OPTIONS</td>\n",
       "    </tr>\n",
       "    <tr>\n",
       "      <th>1</th>\n",
       "      <td>_ hôm_qua đi ăn trưa muộn  ai cũng đói hết nên...</td>\n",
       "      <td>neutral</td>\n",
       "      <td>FOOD</td>\n",
       "      <td>QUALITY</td>\n",
       "    </tr>\n",
       "    <tr>\n",
       "      <th>2</th>\n",
       "      <td>_hương vị thơm ngon  ăn cay cay rất thích  nêm...</td>\n",
       "      <td>positive</td>\n",
       "      <td>FOOD</td>\n",
       "      <td>QUALITY</td>\n",
       "    </tr>\n",
       "    <tr>\n",
       "      <th>3</th>\n",
       "      <td>ngoài_ra menu quán cũng nhiều món khác nhau th...</td>\n",
       "      <td>positive</td>\n",
       "      <td>FOOD</td>\n",
       "      <td>STYLE&amp;OPTIONS</td>\n",
       "    </tr>\n",
       "    <tr>\n",
       "      <th>4</th>\n",
       "      <td>khách của quán đông nên nhiều khi nhân_viên ph...</td>\n",
       "      <td>positive</td>\n",
       "      <td>AMBIENCE</td>\n",
       "      <td>GENERAL</td>\n",
       "    </tr>\n",
       "  </tbody>\n",
       "</table>\n",
       "</div>"
      ],
      "text/plain": [
       "                                                text     label    entity  \\\n",
       "0  _ ảnh chụp từ hôm_qua  đi chơi với gia_đình và...   neutral      FOOD   \n",
       "1  _ hôm_qua đi ăn trưa muộn  ai cũng đói hết nên...   neutral      FOOD   \n",
       "2  _hương vị thơm ngon  ăn cay cay rất thích  nêm...  positive      FOOD   \n",
       "3  ngoài_ra menu quán cũng nhiều món khác nhau th...  positive      FOOD   \n",
       "4  khách của quán đông nên nhiều khi nhân_viên ph...  positive  AMBIENCE   \n",
       "\n",
       "       attribute  \n",
       "0  STYLE&OPTIONS  \n",
       "1        QUALITY  \n",
       "2        QUALITY  \n",
       "3  STYLE&OPTIONS  \n",
       "4        GENERAL  "
      ]
     },
     "execution_count": 43,
     "metadata": {},
     "output_type": "execute_result"
    }
   ],
   "source": [
    "df_res = data_trans.load_to_df('data_Restaurant_train.txt')\n",
    "df_res.head(5)"
   ]
  },
  {
   "cell_type": "code",
   "execution_count": 46,
   "metadata": {},
   "outputs": [
    {
     "data": {
      "image/png": "[encoded data removed]",
      "text/plain": [
       "<Figure size 640x480 with 1 Axes>"
      ]
     },
     "metadata": {},
     "output_type": "display_data"
    }
   ],
   "source": [
    "sns.countplot(df,x='label')\n",
    "plt.title(\"Count sentiment in restaurant dataset\")\n",
    "plt.show()"
   ]
  },
  {
   "cell_type": "code",
   "execution_count": 47,
   "metadata": {},
   "outputs": [
    {
     "data": {
      "image/png": "[encoded data removed]",
      "text/plain": [
       "<Figure size 1200x600 with 1 Axes>"
      ]
     },
     "metadata": {},
     "output_type": "display_data"
    }
   ],
   "source": [
    "plt.figure(figsize=(12,6))\n",
    "sns.countplot(df,x='entity')\n",
    "plt.title(\"Count entitys in restaurant dataset\")\n",
    "plt.show()"
   ]
  },
  {
   "cell_type": "code",
   "execution_count": 48,
   "metadata": {},
   "outputs": [
    {
     "data": {
      "image/png": "[encoded data removed]",
      "text/plain": [
       "<Figure size 1200x600 with 1 Axes>"
      ]
     },
     "metadata": {},
     "output_type": "display_data"
    }
   ],
   "source": [
    "plt.figure(figsize=(12,6))\n",
    "sns.countplot(df,x='attribute')\n",
    "plt.title(\"Count attribute in restaurant dataset\")\n",
    "plt.show()"
   ]
  },
  {
   "cell_type": "code",
   "execution_count": 49,
   "metadata": {},
   "outputs": [],
   "source": [
    "model_res = Aspect_nb_model()\n",
    "model_res.fit3layer(df_res)"
   ]
  },
  {
   "attachments": {},
   "cell_type": "markdown",
   "metadata": {},
   "source": [
    "Test with specific text"
   ]
  },
  {
   "cell_type": "code",
   "execution_count": 56,
   "metadata": {},
   "outputs": [
    {
     "name": "stdout",
     "output_type": "stream",
     "text": [
      "['{AMBIENCE#GENERAL, positive}', '{FOOD#QUALITY, positive}']\n"
     ]
    }
   ],
   "source": [
    "print(model_res.detail_predict('chổ này gần nhà mình nên ghé thử, quán thoáng mát, nhân viên phục vụ chu đáo, món ăn vừa túi sinh viên! có mấy món lạ nữa kết nhất là cái cánh vịt đó'))"
   ]
  },
  {
   "cell_type": "code",
   "execution_count": 57,
   "metadata": {},
   "outputs": [
    {
     "name": "stdout",
     "output_type": "stream",
     "text": [
      "              precision    recall  f1-score   support\n",
      "\n",
      "    negative       0.65      0.17      0.27       456\n",
      "     neutral       0.80      0.32      0.46      1169\n",
      "    positive       0.82      0.98      0.90      5362\n",
      "\n",
      "    accuracy                           0.82      6987\n",
      "   macro avg       0.76      0.49      0.54      6987\n",
      "weighted avg       0.81      0.82      0.78      6987\n",
      "\n",
      "              precision    recall  f1-score   support\n",
      "\n",
      "    AMBIENCE       0.59      0.36      0.44       535\n",
      "      DRINKS       0.58      0.08      0.13       185\n",
      "        FOOD       0.75      0.95      0.84      4676\n",
      "    LOCATION       0.73      0.35      0.48       274\n",
      "  RESTAURANT       0.65      0.33      0.44       840\n",
      "     SERVICE       0.64      0.19      0.30       477\n",
      "\n",
      "    accuracy                           0.73      6987\n",
      "   macro avg       0.66      0.38      0.44      6987\n",
      "weighted avg       0.71      0.73      0.69      6987\n",
      "\n",
      "               precision    recall  f1-score   support\n",
      "\n",
      "      GENERAL       0.65      0.67      0.66      1864\n",
      "MISCELLANEOUS       0.33      0.04      0.07        96\n",
      "       PRICES       0.72      0.41      0.52      1152\n",
      "      QUALITY       0.60      0.83      0.69      2359\n",
      "STYLE&OPTIONS       0.69      0.51      0.58      1516\n",
      "\n",
      "     accuracy                           0.64      6987\n",
      "    macro avg       0.60      0.49      0.51      6987\n",
      " weighted avg       0.65      0.64      0.62      6987\n",
      "\n"
     ]
    }
   ],
   "source": [
    "model_res.evaluate(df_res)"
   ]
  },
  {
   "cell_type": "code",
   "execution_count": 58,
   "metadata": {},
   "outputs": [],
   "source": [
    "df_rest_test = data_trans.load_to_df('data_Restaurant_test.txt')"
   ]
  },
  {
   "cell_type": "code",
   "execution_count": 59,
   "metadata": {},
   "outputs": [
    {
     "name": "stdout",
     "output_type": "stream",
     "text": [
      "              precision    recall  f1-score   support\n",
      "\n",
      "    negative       0.20      0.02      0.03       125\n",
      "     neutral       0.44      0.07      0.12       477\n",
      "    positive       0.71      0.98      0.82      1386\n",
      "\n",
      "    accuracy                           0.70      1988\n",
      "   macro avg       0.45      0.35      0.32      1988\n",
      "weighted avg       0.61      0.70      0.60      1988\n",
      "\n",
      "              precision    recall  f1-score   support\n",
      "\n",
      "    AMBIENCE       0.26      0.10      0.15       224\n",
      "      DRINKS       0.00      0.00      0.00       144\n",
      "        FOOD       0.53      0.88      0.66       981\n",
      "    LOCATION       0.53      0.14      0.23       166\n",
      "  RESTAURANT       0.25      0.15      0.18       340\n",
      "     SERVICE       0.40      0.06      0.10       133\n",
      "\n",
      "    accuracy                           0.49      1988\n",
      "   macro avg       0.33      0.22      0.22      1988\n",
      "weighted avg       0.40      0.49      0.40      1988\n",
      "\n",
      "               precision    recall  f1-score   support\n",
      "\n",
      "      GENERAL       0.48      0.58      0.52       707\n",
      "MISCELLANEOUS       0.00      0.00      0.00        96\n",
      "       PRICES       0.38      0.11      0.16       390\n",
      "      QUALITY       0.29      0.47      0.36       427\n",
      "STYLE&OPTIONS       0.26      0.23      0.25       368\n",
      "\n",
      "     accuracy                           0.37      1988\n",
      "    macro avg       0.28      0.28      0.26      1988\n",
      " weighted avg       0.36      0.37      0.34      1988\n",
      "\n"
     ]
    },
    {
     "name": "stderr",
     "output_type": "stream",
     "text": [
      "C:\\Users\\drawt\\AppData\\Local\\Packages\\PythonSoftwareFoundation.Python.3.10_qbz5n2kfra8p0\\LocalCache\\local-packages\\Python310\\site-packages\\sklearn\\metrics\\_classification.py:1344: UndefinedMetricWarning: Precision and F-score are ill-defined and being set to 0.0 in labels with no predicted samples. Use `zero_division` parameter to control this behavior.\n",
      "  _warn_prf(average, modifier, msg_start, len(result))\n",
      "C:\\Users\\drawt\\AppData\\Local\\Packages\\PythonSoftwareFoundation.Python.3.10_qbz5n2kfra8p0\\LocalCache\\local-packages\\Python310\\site-packages\\sklearn\\metrics\\_classification.py:1344: UndefinedMetricWarning: Precision and F-score are ill-defined and being set to 0.0 in labels with no predicted samples. Use `zero_division` parameter to control this behavior.\n",
      "  _warn_prf(average, modifier, msg_start, len(result))\n",
      "C:\\Users\\drawt\\AppData\\Local\\Packages\\PythonSoftwareFoundation.Python.3.10_qbz5n2kfra8p0\\LocalCache\\local-packages\\Python310\\site-packages\\sklearn\\metrics\\_classification.py:1344: UndefinedMetricWarning: Precision and F-score are ill-defined and being set to 0.0 in labels with no predicted samples. Use `zero_division` parameter to control this behavior.\n",
      "  _warn_prf(average, modifier, msg_start, len(result))\n"
     ]
    }
   ],
   "source": [
    "model_res.evaluate(df_rest_test)"
   ]
  },
  {
   "attachments": {},
   "cell_type": "markdown",
   "metadata": {},
   "source": [
    "Test with 10 review from test data"
   ]
  },
  {
   "cell_type": "code",
   "execution_count": 62,
   "metadata": {},
   "outputs": [
    {
     "name": "stdout",
     "output_type": "stream",
     "text": [
      "#51\n",
      "Thèm bánh canh ghê mà ngày nào cũng có tô bánh canh hẹ này ăn là dzui đời gòi. Tô bánh canh hẹ 40k mà vô vàn chả cá (mặc dù hơi khô), trứng cút và 1 đống hẹ. Nước lèo thơm mùi chả cá và thanh, ko tanh. Dĩa bánh bèo 32k được 12 cái nhỏ mà bột dày quá, lại khô nữa, ko đáng tiền. Có điều thích mấy miếng bánh mì chiên trên mặt, ăn giòn rụm. Nước mắm pha ngon, vừa miệng. Dĩa bánh bột lọc 6 cái 36k ăn được hơn bánh bèo nhưng nếu bột mềm hơn tí nữa thì ngon hơn. Thích nhất là ở đây dùng mỡ hẹ, ko phải mỡ hành nên món nào cũng thơm phức mùi hẹ. Nói chung là quản bá đặc sản xứ Nẫu thành công nhóe 👍👄\n",
      "['{FOOD#QUALITY, positive}', '{FOOD#STYLE&OPTIONS, positive}', '{FOOD#QUALITY, positive}', '{FOOD#QUALITY, positive}', '{FOOD#QUALITY, positive}', '{FOOD#QUALITY, positive}', '{FOOD#QUALITY, positive}', '{FOOD#QUALITY, positive}', '{RESTAURANT#GENERAL, neutral}']\n",
      "#52\n",
      "Chú bán món bánh bò lá dứa cũng khá lâu rồi đó, bán cố định thứ 2 từ 9h-12h đêm tại Ngã 4 Trần hưng đạo giao với Phùng hưng ngay khúc chợ vải , còn mấy ngày kia chú đẩy xe đi bán trên đường nguyễn trãi khúc bệnh viện nguyễn trãi ko cố định nha :)) bạn nào đi chơi đêm khuya ghé ủng hộ chú nha.   Mình ít thấy ai bán bánh bò màu xanh giống chú lắm toàn màu trắng thôi  Chú đang đổ bánh nóng, chú người Hoa dễ chịu lắm chụp hình là cho chụp liền bán hàng nói chuyện vui vẻ nữa.   Bánh nướng trên lò than   Tủ bánh của chú, sau 12h mà chưa bán hết thì chú đẩy xe đi vòng vòng bán tiếp nha chứ ko ở đây nữa.   Bánh bò lá dứa 25k/chục cái.  Bánh màu xanh lá dứa nhìn bắt mắt hen   Bánh mình đem về để hơi âm ấm ăn rất ngon, có vị béo từ dừa ko ngọt lắm nên ko gây ngán, nhưng mùi lá dứa hơi ít tí, bánh mềm dai. Chúc các bạn ăn ngon miệng.\n",
      "['{RESTAURANT#GENERAL, positive}', '{FOOD#STYLE&OPTIONS, neutral}', '{RESTAURANT#GENERAL, positive}', '{FOOD#PRICES, neutral}', '{FOOD#STYLE&OPTIONS, positive}', '{FOOD#QUALITY, positive}']\n",
      "#53\n",
      "Dân xa quê lên Sài Gòn mưu sinh đã khó. Đối với những người lớn tuổi, ở cái tuổi xế chiều còn phải tìm cách mưu sinh kiếm sống càng khó hơn gấp nhiều lần. Mình vừa vô tình đi qua 1 xe bánh nhỏ của ông chú xa quê, nếu mọi người có đi ngang qua đây thì ủng hộ chú nhé. Cận tết rồi mà chú còn đang lo không có tiền về quê.   Bánh bông lan trứng muối có giá 30k/1 hộp. Nếu bạn không thích ăn trứng muối thì có thể kêu chú không để vào, thích ăn bánh bông lan không chú cũng làm luôn.   Chú chỉ có 1 khuôn thôi, đổ lần được 12 cái nhỏ.   1 mẻ vừa ra còn nóng luôn nè mọi người.   Bánh mịn lắm mọi người, chà bông mặn mặn do chính nhà làm, trứng muối làm cho bánh hấp dẫn hơn.   Bánh da lợn 15k/1 hộp 10 cái. Bánh bò nướng 5k/1 cái. Mình thích bánh da lợn hơn bánh bò, bánh dẻo dẻo có nhiều đậu xanh, ngọt dịu dễ ăn. Xe bánh của chú nằm kế tiệm chè Hà Ký, trong góc nhỏ, chạy nhanh quá thường không thấy xe của chú nhe mọi người.\n",
      "['{RESTAURANT#GENERAL, positive}', '{FOOD#GENERAL, positive}', '{RESTAURANT#GENERAL, positive}', '{FOOD#GENERAL, positive}', '{FOOD#STYLE&OPTIONS, positive}', '{FOOD#QUALITY, positive}', '{FOOD#GENERAL, positive}', '{FOOD#STYLE&OPTIONS, positive}', '{FOOD#STYLE&OPTIONS, positive}', '{FOOD#PRICES, positive}', '{FOOD#PRICES, positive}', '{FOOD#QUALITY, positive}', '{AMBIENCE#GENERAL, positive}']\n",
      "#54\n",
      "Được biết chủ quán Làm từ nhà Hàng Hàn Quốc nay về mở Quán nhỏ chủ yếu phục vụ cho các bạn sinh viên, học sinh. Nên món ăn và giả cả củng rấất ok nhé. Có dịp các bạn cứ nghé ăn thử nhé, duới đây là hình mình nghé quán chụp cho các bạn xem: Bên ngoài quă ăn rất dễ tìm, bên trong trang trí dễ thương, sạch sẽ   Còn đây là cac món mình đã orther:   Bèo xải hản sản - 70K.   Súp bắp bò hầm miến - 65k.  Trứng hấp Hàn Quốc - 45k.   Ngoài ra quán còn phục vụ miễn phí chè trái cây ướp lạnh rấất ngon và lạ. (lo ăn mình quên chụp lại hihi). Hiện quán đang ưu đãi giá 30% trên tổng bill đến hết 28/2/2016.\n",
      "['{FOOD#GENERAL, positive}', '{FOOD#GENERAL, positive}', '{FOOD#GENERAL, positive}', '{FOOD#QUALITY, positive}', '{FOOD#STYLE&OPTIONS, positive}', '{FOOD#STYLE&OPTIONS, positive}', '{FOOD#GENERAL, positive}', '{RESTAURANT#PRICES, neutral}']\n",
      "#55\n",
      "Thèm bánh canh cua nên tìm đến đây ăn thử. Mới chừng 7g mấy là hết tôm rồi nên tô đầy đủ của mình có 2 miếng chả cua. Bánh canh ở đây ăn cũng bình thường, nước dùng nấu hơi ngọt. Thịt cua cũng tương đối nhưng vỏ cua còn sót nhiều quá. Nói chung ko ấn tượng, tô 45k ko gì hấp dẫn.\n",
      "['{FOOD#GENERAL, positive}', '{FOOD#STYLE&OPTIONS, positive}', '{FOOD#QUALITY, positive}', '{FOOD#STYLE&OPTIONS, positive}', '{FOOD#QUALITY, positive}']\n",
      "#56\n",
      "Quán này bán bánh canh cũng khá có tiếng, thấy nhiều người ăn lắm. Quán không gian hơi chật và nhỏ, nhìn bình dân lắm nhưng giá thì hơi mắc, tô cỡ 35k - 40k. Bánh canh tô mình hay ăn tôm cua thì 40k, phục vụ cũng nhanh lắm nha. tuy là chỉ mấy cô lớn tuổi không thôi.  Bánh quẩy mang ra sắn, ăn thì 3k/dĩa.  1 tô được 3 con tôm với rất nhiều cua, nhìn ngon lắm cơ.  Tôm tươi lắm, ăn đã, cua thì ăn được thôi, không phải cua tươi sống luộc xé ra nên không ngọt thịt lắm. Nước thì nêm cũng ngon.  Thích nước mắm chanh ở đây, chấm ăn rất ngon.  Chả ở đây ăn cũng ngon đó nha, dai và mùi vị cũng lạ lạ.  Quán bán buổi sáng rất đông khách nên thường hết sớm. Giá không rẻ nhưng so với chất lượng thì cũng ổn, chứ giờ ăn rẻ quá cung sợ :))\n",
      "['{FOOD#GENERAL, positive}', '{FOOD#GENERAL, neutral}', '{FOOD#PRICES, positive}', '{FOOD#GENERAL, positive}', '{FOOD#STYLE&OPTIONS, positive}', '{FOOD#STYLE&OPTIONS, positive}', '{FOOD#QUALITY, positive}', '{FOOD#QUALITY, positive}', '{FOOD#QUALITY, positive}', '{FOOD#QUALITY, positive}', '{RESTAURANT#GENERAL, positive}', '{FOOD#QUALITY, positive}']\n",
      "#57\n",
      "Bánh canh cua Quận 10 thì không thể không kể tới chỗ này được. Nhìn cục giò thôi là thèm thuồng rồi nha. Quán hơi xập xệ và nóng nực, gửi xe miễn phí ngay trong hẻm nhỏ xíu, bạn có thể ngồi bên trong hẻm hoặc quán ngay mặt tiền đầu hẻm đều được. Bán từ sáng khoảng 10h tới tối luôn nha. Giá 1 tô là 35k-45k tùy bạn ăn gì.  Ngoài giò, tôm, cua còn có chả cá   Chả cá ăn được thôi chứ ko ngon gì mấy   cua rất tươi và nhiều  Có quẩy thêm cho ai thích, tính tiền riêng.   Cua ngon lắm\n",
      "['{FOOD#GENERAL, positive}', '{FOOD#STYLE&OPTIONS, positive}', '{LOCATION#GENERAL, positive}', '{RESTAURANT#GENERAL, positive}', '{FOOD#PRICES, positive}', '{FOOD#QUALITY, positive}', '{FOOD#QUALITY, positive}']\n",
      "#58\n",
      "Hôm qua đi xem phim cùng bb ở Galaxy Nguyễn Trãi thì phát hiện có quán ăn chuyên Hàn Quốc mới khai trương, thế là vào ăn thử liền. Món ăn ngon, giá củng rẻ, ăn no luôn mỗi ngườời chưa tới 100k. Địa chỉ:\n",
      "['{RESTAURANT#GENERAL, positive}', '{FOOD#QUALITY, positive}', '{FOOD#GENERAL, positive}']\n",
      "#59\n",
      "chổ này gần nhà mình nên ghé thử, quán thoáng mát, nhân viên phục vụ chu đáo, món ăn vừa túi sinh viên! có mấy món lạ nữa kết nhất là cái cánh vịt đó\n",
      "['{AMBIENCE#GENERAL, positive}', '{FOOD#QUALITY, positive}']\n",
      "#60\n",
      "Đi ngang đường Vạn Kiếp hoài lúc nào cũng thấy quán bánh canh này đông đúc hết á, sẵn hôm nay đang thèm bánh canh bột gạo nên bạn mình rủ vào ăn luôn. Quán cực kì đông có bàn ngồi ngoài và trong nhưng hơi dơ xíu nhưng bù lại tô bánh canh giá bình dân mà cực kì chất lượng luôn   Mình ngồi ăn có chút mà nhìn chị múc bánh canh ko ngơi tay luôn  Ngoài giò nạc huyết da heo còn có chả huế, chả cua , trứng cút ăn kèm nha  Trên bàn là chén mắm ớt nhìn là thấy ngon rồi :D  2 tô bánh canh có giò của tụi mình 25k 1 tô   Tô bánh canh đầy ắp ngập tràn đồ ăn hen Cục xương nạc to chà bá luôn, thịt hầm mềm có sụn ăn sựt sựt ngon nha Hay là giò nạc vừa thịt vừa mỡ nè  Thịt càng cúm, 1 tô cũng được 4-5 cái luôn thịt cúm tươi ngon Chả lụa huế và chả cua. Chả dai thơm mùi tiêu cay cay Huyết to mềm  Bánh canh bột gạo xắt nhà làm, cọng bánh canh dày mảng bự nên dai dẻo lắm, có điều bánh trong tô hơi ít. Mình thích ăn cọng bánh canh này hơn bánh canh thường trong trong Nước súp ngọt thanh đậm đà hen, nước sền sệt đặc trưng của món bánh canh bột gạo này nha. Nêm thêm xíu ớt cay cay sẽ ngon hơn Quán đông nên phục vụ ko được chu đáo lắm, giữ xe free\n",
      "['{FOOD#GENERAL, positive}', '{FOOD#STYLE&OPTIONS, positive}', '{FOOD#QUALITY, positive}', '{FOOD#QUALITY, positive}', '{FOOD#GENERAL, positive}']\n"
     ]
    }
   ],
   "source": [
    "textlist = data_trans.read_text_only('data_Restaurant_test.txt')\n",
    "for i in range(50,60):\n",
    "    print(f'#{i+1}')\n",
    "    text = textlist[i]\n",
    "    print(text)\n",
    "    print(str(model_res.detail_predict(text)))"
   ]
  }
 ],
 "metadata": {
  "kernelspec": {
   "display_name": "Python 3",
   "language": "python",
   "name": "python3"
  },
  "language_info": {
   "codemirror_mode": {
    "name": "ipython",
    "version": 3
   },
   "file_extension": ".py",
   "mimetype": "text/x-python",
   "name": "python",
   "nbconvert_exporter": "python",
   "pygments_lexer": "ipython3",
   "version": "3.10.11"
  },
  "orig_nbformat": 4
 },
 "nbformat": 4,
 "nbformat_minor": 2
}
