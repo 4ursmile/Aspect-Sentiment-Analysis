{
 "cells": [
  {
   "cell_type": "code",
   "execution_count": 5,
   "metadata": {},
   "outputs": [],
   "source": [
    "from underthesea import sent_tokenize\n",
    "import pandas as pd\n",
    "from pyvi import ViTokenizer\n",
    "import re\n",
    "class Data_transformer:\n",
    "    def __init__(self) -> None:\n",
    "        self.__tokenizer = ViTokenizer\n",
    "        pass\n",
    "    def __removepunc(self, text):\n",
    "        return re.sub(r'[^\\w\\s]','',text)\n",
    "    def __tokenize(self, text):\n",
    "        return self.__tokenizer.tokenize(text)\n",
    "    def text_preprocessing(self, text):\n",
    "        text_token = self.__tokenize(text)\n",
    "        text_remove_punc = self.__removepunc(text_token)\n",
    "        return text_remove_punc.lower()\n",
    "    def read_text_only(self, filename):\n",
    "        texts = []\n",
    "        with open(filename, 'r', encoding='utf-8') as f:\n",
    "            lines = filter(None, (line.rstrip() for line in f))\n",
    "            for line in lines:\n",
    "                line = line.strip()\n",
    "                if line.startswith('#'):\n",
    "                    pass\n",
    "                elif line.startswith('{') and line.endswith('}'):\n",
    "                    pass\n",
    "                else:\n",
    "                    texts.append(line)\n",
    "        return texts\n",
    "    def load_data(self, filename):\n",
    "        data = []\n",
    "        with open(filename, 'r', encoding='utf-8') as f:\n",
    "            index = 0\n",
    "            texts = []\n",
    "            for line in f:\n",
    "                line = line.strip()\n",
    "                if line.startswith('#'):\n",
    "                    #index = int(line[1:])\n",
    "                    pass\n",
    "                elif line.startswith('{') and line.endswith('}'):\n",
    "                    aspects = re.findall(r'{(.+?),\\s*(.+?)}', line)\n",
    "                    min_len = len(aspects) if len(aspects)<len(texts) else len(texts) \n",
    "                    for i in range(min_len):\n",
    "                        aspect, sentiment = aspects[i]\n",
    "                        text = texts[i]\n",
    "                        s_attribute = aspect.split('#')\n",
    "                        data_line = [self.text_preprocessing(text), sentiment, s_attribute[0], s_attribute[1]]\n",
    "                        data.append(data_line) \n",
    "                else:\n",
    "                    texts = sent_tokenize(line)\n",
    "        return data\n",
    "    def load_to_df(self, filename, columns = ['text', 'label', 'entity', 'attribute']):\n",
    "        data = self.load_data(filename)\n",
    "        df = pd.DataFrame(data=data, columns=columns)\n",
    "        return df\n",
    "    def text2feature(self, text):\n",
    "        list_f = []\n",
    "        list_text = sent_tokenize(text)\n",
    "        for text in list_text:\n",
    "            list_f.append(self.text_preprocessing(text))\n",
    "        return list_f\n",
    "\n",
    "        "
   ]
  },
  {
   "attachments": {},
   "cell_type": "markdown",
   "metadata": {},
   "source": [
    "## Hotel"
   ]
  },
  {
   "cell_type": "code",
   "execution_count": 6,
   "metadata": {},
   "outputs": [
    {
     "data": {
      "text/html": [
       "<div>\n",
       "<style scoped>\n",
       "    .dataframe tbody tr th:only-of-type {\n",
       "        vertical-align: middle;\n",
       "    }\n",
       "\n",
       "    .dataframe tbody tr th {\n",
       "        vertical-align: top;\n",
       "    }\n",
       "\n",
       "    .dataframe thead th {\n",
       "        text-align: right;\n",
       "    }\n",
       "</style>\n",
       "<table border=\"1\" class=\"dataframe\">\n",
       "  <thead>\n",
       "    <tr style=\"text-align: right;\">\n",
       "      <th></th>\n",
       "      <th>text</th>\n",
       "      <th>label</th>\n",
       "      <th>entity</th>\n",
       "      <th>attribute</th>\n",
       "    </tr>\n",
       "  </thead>\n",
       "  <tbody>\n",
       "    <tr>\n",
       "      <th>0</th>\n",
       "      <td>rộng_rãi ks mới nhưng rất vắng</td>\n",
       "      <td>positive</td>\n",
       "      <td>HOTEL</td>\n",
       "      <td>DESIGN&amp;FEATURES</td>\n",
       "    </tr>\n",
       "    <tr>\n",
       "      <th>1</th>\n",
       "      <td>các dịch_vụ chất_lượng chưa cao và thiếu</td>\n",
       "      <td>negative</td>\n",
       "      <td>HOTEL</td>\n",
       "      <td>GENERAL</td>\n",
       "    </tr>\n",
       "    <tr>\n",
       "      <th>2</th>\n",
       "      <td>địa_điểm thuận_tiện  trong vòng bán_kính 15 km...</td>\n",
       "      <td>positive</td>\n",
       "      <td>LOCATION</td>\n",
       "      <td>GENERAL</td>\n",
       "    </tr>\n",
       "    <tr>\n",
       "      <th>3</th>\n",
       "      <td>phục_vụ  view đẹp  vị_trí</td>\n",
       "      <td>positive</td>\n",
       "      <td>SERVICE</td>\n",
       "      <td>GENERAL</td>\n",
       "    </tr>\n",
       "    <tr>\n",
       "      <th>4</th>\n",
       "      <td>thuận_tiện  sạch_sẽ  vui_vẻ hài_lòng</td>\n",
       "      <td>positive</td>\n",
       "      <td>HOTEL</td>\n",
       "      <td>COMFORT</td>\n",
       "    </tr>\n",
       "    <tr>\n",
       "      <th>5</th>\n",
       "      <td>vị_trí đẹp  có quán bar view đẹp  nhân_viên th...</td>\n",
       "      <td>positive</td>\n",
       "      <td>LOCATION</td>\n",
       "      <td>GENERAL</td>\n",
       "    </tr>\n",
       "    <tr>\n",
       "      <th>6</th>\n",
       "      <td>co view huong ho_tay  sach se  nhan vien tan ...</td>\n",
       "      <td>positive</td>\n",
       "      <td>HOTEL</td>\n",
       "      <td>GENERAL</td>\n",
       "    </tr>\n",
       "    <tr>\n",
       "      <th>7</th>\n",
       "      <td>phòng_ốc sạch  giường thoải_mái  nhân_viên thâ...</td>\n",
       "      <td>positive</td>\n",
       "      <td>ROOMS</td>\n",
       "      <td>CLEANLINESS</td>\n",
       "    </tr>\n",
       "    <tr>\n",
       "      <th>8</th>\n",
       "      <td>gần hồ_tây  view nhìn ra hồ lãng_mạn  đi bộ dọ...</td>\n",
       "      <td>positive</td>\n",
       "      <td>LOCATION</td>\n",
       "      <td>GENERAL</td>\n",
       "    </tr>\n",
       "    <tr>\n",
       "      <th>9</th>\n",
       "      <td>hình_thức không_thể quyết_định nội_dung  h  at...</td>\n",
       "      <td>positive</td>\n",
       "      <td>HOTEL</td>\n",
       "      <td>COMFORT</td>\n",
       "    </tr>\n",
       "    <tr>\n",
       "      <th>10</th>\n",
       "      <td>tôi ở đây lần này là lần thứ 4</td>\n",
       "      <td>negative</td>\n",
       "      <td>ROOMS</td>\n",
       "      <td>CLEANLINESS</td>\n",
       "    </tr>\n",
       "    <tr>\n",
       "      <th>11</th>\n",
       "      <td>khi nhận phòng trong phòng khá nhiều bụi</td>\n",
       "      <td>negative</td>\n",
       "      <td>ROOM_AMENITIES</td>\n",
       "      <td>GENERAL</td>\n",
       "    </tr>\n",
       "    <tr>\n",
       "      <th>12</th>\n",
       "      <td>tối khi đi ngủ đi mở chăn ra thì trên drap rất...</td>\n",
       "      <td>negative</td>\n",
       "      <td>FOOD&amp;DRINKS</td>\n",
       "      <td>STYLE&amp;OPTIONS</td>\n",
       "    </tr>\n",
       "    <tr>\n",
       "      <th>13</th>\n",
       "      <td>vì ở tầng 9 nên những vật_dụng trong phòng tắm...</td>\n",
       "      <td>positive</td>\n",
       "      <td>SERVICE</td>\n",
       "      <td>GENERAL</td>\n",
       "    </tr>\n",
       "    <tr>\n",
       "      <th>14</th>\n",
       "      <td>tôi ở đây lần thứ 2 và có ý_định sẽ ở thêm nhi...</td>\n",
       "      <td>positive</td>\n",
       "      <td>HOTEL</td>\n",
       "      <td>GENERAL</td>\n",
       "    </tr>\n",
       "    <tr>\n",
       "      <th>15</th>\n",
       "      <td>tôi đã ở tại khách_sạn 1 ngày tại phòng premiu...</td>\n",
       "      <td>positive</td>\n",
       "      <td>ROOMS</td>\n",
       "      <td>PRICES</td>\n",
       "    </tr>\n",
       "    <tr>\n",
       "      <th>16</th>\n",
       "      <td>so với mức giá được khuyến m  atildei thì khi ...</td>\n",
       "      <td>positive</td>\n",
       "      <td>ROOMS</td>\n",
       "      <td>CLEANLINESS</td>\n",
       "    </tr>\n",
       "    <tr>\n",
       "      <th>17</th>\n",
       "      <td>sạch  đẹp  và view rất đẹp</td>\n",
       "      <td>positive</td>\n",
       "      <td>ROOMS</td>\n",
       "      <td>DESIGN&amp;FEATURES</td>\n",
       "    </tr>\n",
       "    <tr>\n",
       "      <th>18</th>\n",
       "      <td>thái_độ phục_vụ của nhân_viên cũng rất tốt  ch...</td>\n",
       "      <td>positive</td>\n",
       "      <td>ROOMS</td>\n",
       "      <td>GENERAL</td>\n",
       "    </tr>\n",
       "    <tr>\n",
       "      <th>19</th>\n",
       "      <td>tôi cảm_thấy rất hài_lòng khi ở khách_sạn  có ...</td>\n",
       "      <td>positive</td>\n",
       "      <td>HOTEL</td>\n",
       "      <td>COMFORT</td>\n",
       "    </tr>\n",
       "  </tbody>\n",
       "</table>\n",
       "</div>"
      ],
      "text/plain": [
       "                                                 text     label  \\\n",
       "0                     rộng_rãi ks mới nhưng rất vắng   positive   \n",
       "1           các dịch_vụ chất_lượng chưa cao và thiếu   negative   \n",
       "2   địa_điểm thuận_tiện  trong vòng bán_kính 15 km...  positive   \n",
       "3                           phục_vụ  view đẹp  vị_trí  positive   \n",
       "4                thuận_tiện  sạch_sẽ  vui_vẻ hài_lòng  positive   \n",
       "5   vị_trí đẹp  có quán bar view đẹp  nhân_viên th...  positive   \n",
       "6    co view huong ho_tay  sach se  nhan vien tan ...  positive   \n",
       "7   phòng_ốc sạch  giường thoải_mái  nhân_viên thâ...  positive   \n",
       "8   gần hồ_tây  view nhìn ra hồ lãng_mạn  đi bộ dọ...  positive   \n",
       "9   hình_thức không_thể quyết_định nội_dung  h  at...  positive   \n",
       "10                    tôi ở đây lần này là lần thứ 4   negative   \n",
       "11          khi nhận phòng trong phòng khá nhiều bụi   negative   \n",
       "12  tối khi đi ngủ đi mở chăn ra thì trên drap rất...  negative   \n",
       "13  vì ở tầng 9 nên những vật_dụng trong phòng tắm...  positive   \n",
       "14  tôi ở đây lần thứ 2 và có ý_định sẽ ở thêm nhi...  positive   \n",
       "15  tôi đã ở tại khách_sạn 1 ngày tại phòng premiu...  positive   \n",
       "16  so với mức giá được khuyến m  atildei thì khi ...  positive   \n",
       "17                        sạch  đẹp  và view rất đẹp   positive   \n",
       "18  thái_độ phục_vụ của nhân_viên cũng rất tốt  ch...  positive   \n",
       "19  tôi cảm_thấy rất hài_lòng khi ở khách_sạn  có ...  positive   \n",
       "\n",
       "            entity        attribute  \n",
       "0            HOTEL  DESIGN&FEATURES  \n",
       "1            HOTEL          GENERAL  \n",
       "2         LOCATION          GENERAL  \n",
       "3          SERVICE          GENERAL  \n",
       "4            HOTEL          COMFORT  \n",
       "5         LOCATION          GENERAL  \n",
       "6            HOTEL          GENERAL  \n",
       "7            ROOMS      CLEANLINESS  \n",
       "8         LOCATION          GENERAL  \n",
       "9            HOTEL          COMFORT  \n",
       "10           ROOMS      CLEANLINESS  \n",
       "11  ROOM_AMENITIES          GENERAL  \n",
       "12     FOOD&DRINKS    STYLE&OPTIONS  \n",
       "13         SERVICE          GENERAL  \n",
       "14           HOTEL          GENERAL  \n",
       "15           ROOMS           PRICES  \n",
       "16           ROOMS      CLEANLINESS  \n",
       "17           ROOMS  DESIGN&FEATURES  \n",
       "18           ROOMS          GENERAL  \n",
       "19           HOTEL          COMFORT  "
      ]
     },
     "execution_count": 6,
     "metadata": {},
     "output_type": "execute_result"
    }
   ],
   "source": [
    "data_trans = Data_transformer()\n",
    "df = data_trans.load_to_df('data_hotel_train.txt')\n",
    "df.head(20)"
   ]
  },
  {
   "cell_type": "code",
   "execution_count": 7,
   "metadata": {},
   "outputs": [],
   "source": [
    "import matplotlib.pyplot as plt\n",
    "import seaborn as sns\n",
    "sns.set_style('whitegrid')\n",
    "%matplotlib inline "
   ]
  },
  {
   "cell_type": "code",
   "execution_count": 8,
   "metadata": {},
   "outputs": [
    {
     "data": {
      "text/plain": [
       "<AxesSubplot: xlabel='label', ylabel='count'>"
      ]
     },
     "execution_count": 8,
     "metadata": {},
     "output_type": "execute_result"
    },
    {
     "data": {
      "image/png": "[encoded data removed]",
      "text/plain": [
       "<Figure size 640x480 with 1 Axes>"
      ]
     },
     "metadata": {},
     "output_type": "display_data"
    }
   ],
   "source": [
    "sns.countplot(df,x='label')"
   ]
  },
  {
   "cell_type": "code",
   "execution_count": 9,
   "metadata": {},
   "outputs": [
    {
     "data": {
      "text/plain": [
       "<AxesSubplot: xlabel='entity', ylabel='count'>"
      ]
     },
     "execution_count": 9,
     "metadata": {},
     "output_type": "execute_result"
    },
    {
     "data": {
      "image/png": "[encoded data removed]",
      "text/plain": [
       "<Figure size 640x480 with 1 Axes>"
      ]
     },
     "metadata": {},
     "output_type": "display_data"
    }
   ],
   "source": [
    "sns.countplot(df,x='entity')"
   ]
  },
  {
   "cell_type": "code",
   "execution_count": 10,
   "metadata": {},
   "outputs": [
    {
     "data": {
      "text/plain": [
       "<AxesSubplot: xlabel='attribute', ylabel='count'>"
      ]
     },
     "execution_count": 10,
     "metadata": {},
     "output_type": "execute_result"
    },
    {
     "data": {
      "image/png": "[encoded data removed]",
      "text/plain": [
       "<Figure size 640x480 with 1 Axes>"
      ]
     },
     "metadata": {},
     "output_type": "display_data"
    }
   ],
   "source": [
    "sns.countplot(df,x='attribute')"
   ]
  },
  {
   "cell_type": "code",
   "execution_count": 11,
   "metadata": {},
   "outputs": [],
   "source": [
    "from sklearn.feature_extraction.text import CountVectorizer\n",
    "from sklearn.feature_extraction.text import TfidfTransformer\n",
    "from sklearn.naive_bayes import MultinomialNB\n",
    "from sklearn.pipeline import Pipeline\n",
    "from sklearn.metrics import classification_report\n",
    "class Aspect_nb_model:\n",
    "    def __init__(self) -> None:\n",
    "        self.data_trans = Data_transformer()\n",
    "        pass\n",
    "    def fit3layer(self, df):\n",
    "        X = df['text']\n",
    "        y_sen = df['label']\n",
    "        y_entity = df['entity']\n",
    "        y_attr = df['attribute']\n",
    "        self.pineline_sen = Pipeline([\n",
    "            ('cv', CountVectorizer()),\n",
    "            ('nb', MultinomialNB())\n",
    "        ]) \n",
    "        self.pineline_sen.fit(X, y_sen)\n",
    "\n",
    "        self.pineline_entity = Pipeline([\n",
    "            ('cv', CountVectorizer()),\n",
    "            ('nb', MultinomialNB())\n",
    "        ]) \n",
    "        self.pineline_entity.fit(X, y_entity)\n",
    "\n",
    "        self.pineline_attr = Pipeline([\n",
    "            ('cv', CountVectorizer()),\n",
    "            ('nb', MultinomialNB())\n",
    "        ]) \n",
    "        self.pineline_attr.fit(X, y_attr)\n",
    "        pass \n",
    "    def fit_label(self, df):\n",
    "        X = df['text']\n",
    "        y = df['label']\n",
    "        self.pineline = Pipeline([\n",
    "            ('cv', CountVectorizer()),\n",
    "            ('nb', MultinomialNB())\n",
    "        ]) \n",
    "        self.pineline.fit(X, y)\n",
    "        pass\n",
    "    def evaluate(self, df):\n",
    "        X = df['text']\n",
    "        y_sen_true = df['label']\n",
    "        y_sen_pred = self.pineline_sen.predict(X)\n",
    "\n",
    "        y_entity_true = df['entity']\n",
    "        y_entity_pred = self.pineline_entity.predict(X)\n",
    "        \n",
    "        y_attr_true = df['attribute']\n",
    "        y_attr_pred = self.pineline_attr.predict(X)\n",
    "        print(classification_report(y_sen_true, y_sen_pred))\n",
    "        print(classification_report(y_entity_true, y_entity_pred))\n",
    "        print(classification_report(y_attr_true, y_attr_pred))\n",
    "    \n",
    "    def detail_predict(self, text):\n",
    "        aspect_l = []\n",
    "        texts = data_trans.text2feature(text)\n",
    "        for text in texts:\n",
    "            entity = self.pineline_entity.predict([text])\n",
    "            attr = self.pineline_attr.predict([text])\n",
    "            sen = self.pineline_sen.predict([text])\n",
    "            aspect_l.append(f'({entity[0]}#{attr[0]}, {sen[0]})')\n",
    "        return aspect_l\n"
   ]
  },
  {
   "cell_type": "code",
   "execution_count": 12,
   "metadata": {},
   "outputs": [],
   "source": [
    "model = Aspect_nb_model()\n",
    "model.fit3layer(df)"
   ]
  },
  {
   "cell_type": "code",
   "execution_count": 13,
   "metadata": {},
   "outputs": [
    {
     "data": {
      "text/plain": [
       "['(ROOMS#CLEANLINESS, negative)']"
      ]
     },
     "execution_count": 13,
     "metadata": {},
     "output_type": "execute_result"
    }
   ],
   "source": [
    "model.detail_predict(\"Ga giường không sạch, nhân viên quên dọn phòng một ngày.\")"
   ]
  },
  {
   "cell_type": "code",
   "execution_count": 14,
   "metadata": {},
   "outputs": [
    {
     "data": {
      "text/html": [
       "<div>\n",
       "<style scoped>\n",
       "    .dataframe tbody tr th:only-of-type {\n",
       "        vertical-align: middle;\n",
       "    }\n",
       "\n",
       "    .dataframe tbody tr th {\n",
       "        vertical-align: top;\n",
       "    }\n",
       "\n",
       "    .dataframe thead th {\n",
       "        text-align: right;\n",
       "    }\n",
       "</style>\n",
       "<table border=\"1\" class=\"dataframe\">\n",
       "  <thead>\n",
       "    <tr style=\"text-align: right;\">\n",
       "      <th></th>\n",
       "      <th>text</th>\n",
       "      <th>label</th>\n",
       "      <th>entity</th>\n",
       "      <th>attribute</th>\n",
       "    </tr>\n",
       "  </thead>\n",
       "  <tbody>\n",
       "    <tr>\n",
       "      <th>0</th>\n",
       "      <td>ga giường không sạch  nhân_viên quên dọn phòng...</td>\n",
       "      <td>negative</td>\n",
       "      <td>ROOM_AMENITIES</td>\n",
       "      <td>CLEANLINESS</td>\n",
       "    </tr>\n",
       "    <tr>\n",
       "      <th>1</th>\n",
       "      <td>nv nhiệt_tình  phòng ở sạch_sẽ  tiện_nghi  vị_...</td>\n",
       "      <td>positive</td>\n",
       "      <td>SERVICE</td>\n",
       "      <td>GENERAL</td>\n",
       "    </tr>\n",
       "    <tr>\n",
       "      <th>2</th>\n",
       "      <td>đi bộ ra biển gần  tiện đi_lại phòng view biển...</td>\n",
       "      <td>positive</td>\n",
       "      <td>LOCATION</td>\n",
       "      <td>GENERAL</td>\n",
       "    </tr>\n",
       "    <tr>\n",
       "      <th>3</th>\n",
       "      <td>tất_cả mọi thứ đều sạch_sẽ  giường ngủ rất tho...</td>\n",
       "      <td>positive</td>\n",
       "      <td>HOTEL</td>\n",
       "      <td>CLEANLINESS</td>\n",
       "    </tr>\n",
       "    <tr>\n",
       "      <th>4</th>\n",
       "      <td>không có quạt_điện mà chỉ có_điều hòa nên có c...</td>\n",
       "      <td>positive</td>\n",
       "      <td>ROOM_AMENITIES</td>\n",
       "      <td>COMFORT</td>\n",
       "    </tr>\n",
       "  </tbody>\n",
       "</table>\n",
       "</div>"
      ],
      "text/plain": [
       "                                                text     label  \\\n",
       "0  ga giường không sạch  nhân_viên quên dọn phòng...  negative   \n",
       "1  nv nhiệt_tình  phòng ở sạch_sẽ  tiện_nghi  vị_...  positive   \n",
       "2  đi bộ ra biển gần  tiện đi_lại phòng view biển...  positive   \n",
       "3  tất_cả mọi thứ đều sạch_sẽ  giường ngủ rất tho...  positive   \n",
       "4  không có quạt_điện mà chỉ có_điều hòa nên có c...  positive   \n",
       "\n",
       "           entity    attribute  \n",
       "0  ROOM_AMENITIES  CLEANLINESS  \n",
       "1         SERVICE      GENERAL  \n",
       "2        LOCATION      GENERAL  \n",
       "3           HOTEL  CLEANLINESS  \n",
       "4  ROOM_AMENITIES      COMFORT  "
      ]
     },
     "execution_count": 14,
     "metadata": {},
     "output_type": "execute_result"
    }
   ],
   "source": [
    "df_test = data_trans.load_to_df('data_hotel_test.txt')\n",
    "df_test.head(5)"
   ]
  },
  {
   "cell_type": "code",
   "execution_count": 18,
   "metadata": {},
   "outputs": [
    {
     "name": "stdout",
     "output_type": "stream",
     "text": [
      "              precision    recall  f1-score   support\n",
      "\n",
      "    negative       0.63      0.60      0.61      1679\n",
      "     neutral       0.73      0.10      0.18       373\n",
      "    positive       0.87      0.93      0.90      6670\n",
      "\n",
      "    accuracy                           0.83      8722\n",
      "   macro avg       0.75      0.54      0.56      8722\n",
      "weighted avg       0.82      0.83      0.81      8722\n",
      "\n",
      "                precision    recall  f1-score   support\n",
      "\n",
      "    FACILITIES       0.64      0.29      0.40       797\n",
      "   FOOD&DRINKS       0.50      0.33      0.40       688\n",
      "         HOTEL       0.53      0.77      0.62      2857\n",
      "      LOCATION       0.47      0.52      0.50       865\n",
      "         ROOMS       0.48      0.50      0.49      1757\n",
      "ROOM_AMENITIES       0.74      0.19      0.30       580\n",
      "       SERVICE       0.48      0.33      0.39      1178\n",
      "\n",
      "      accuracy                           0.51      8722\n",
      "     macro avg       0.55      0.42      0.44      8722\n",
      "  weighted avg       0.53      0.51      0.49      8722\n",
      "\n",
      "                 precision    recall  f1-score   support\n",
      "\n",
      "    CLEANLINESS       0.73      0.17      0.27       826\n",
      "        COMFORT       0.52      0.42      0.47      1140\n",
      "DESIGN&FEATURES       0.52      0.58      0.55      1873\n",
      "        GENERAL       0.53      0.81      0.64      3243\n",
      "  MISCELLANEOUS       1.00      0.03      0.05        71\n",
      "         PRICES       0.72      0.16      0.26       421\n",
      "        QUALITY       0.56      0.30      0.39       876\n",
      "  STYLE&OPTIONS       0.69      0.15      0.25       272\n",
      "\n",
      "       accuracy                           0.54      8722\n",
      "      macro avg       0.66      0.33      0.36      8722\n",
      "   weighted avg       0.57      0.54      0.50      8722\n",
      "\n"
     ]
    }
   ],
   "source": [
    "model.evaluate(df)"
   ]
  },
  {
   "cell_type": "code",
   "execution_count": 15,
   "metadata": {},
   "outputs": [
    {
     "name": "stdout",
     "output_type": "stream",
     "text": [
      "              precision    recall  f1-score   support\n",
      "\n",
      "    negative       0.41      0.65      0.51       231\n",
      "     neutral       0.00      0.00      0.00        84\n",
      "    positive       0.88      0.85      0.86      1154\n",
      "\n",
      "    accuracy                           0.77      1469\n",
      "   macro avg       0.43      0.50      0.46      1469\n",
      "weighted avg       0.76      0.77      0.76      1469\n",
      "\n",
      "                precision    recall  f1-score   support\n",
      "\n",
      "    FACILITIES       0.15      0.03      0.05        68\n",
      "   FOOD&DRINKS       0.44      0.27      0.34       143\n",
      "         HOTEL       0.34      0.52      0.41       290\n",
      "      LOCATION       0.41      0.35      0.37       153\n",
      "         ROOMS       0.35      0.56      0.43       356\n",
      "ROOM_AMENITIES       0.43      0.09      0.15       183\n",
      "       SERVICE       0.47      0.29      0.36       276\n",
      "\n",
      "      accuracy                           0.37      1469\n",
      "     macro avg       0.37      0.30      0.30      1469\n",
      "  weighted avg       0.38      0.37      0.34      1469\n",
      "\n",
      "                 precision    recall  f1-score   support\n",
      "\n",
      "    CLEANLINESS       0.29      0.08      0.13       195\n",
      "        COMFORT       0.18      0.05      0.08       149\n",
      "DESIGN&FEATURES       0.34      0.56      0.42       279\n",
      "        GENERAL       0.51      0.72      0.59       569\n",
      "  MISCELLANEOUS       0.00      0.00      0.00        31\n",
      "         PRICES       0.00      0.00      0.00        54\n",
      "        QUALITY       0.37      0.22      0.28       134\n",
      "  STYLE&OPTIONS       0.60      0.05      0.10        58\n",
      "\n",
      "       accuracy                           0.42      1469\n",
      "      macro avg       0.28      0.21      0.20      1469\n",
      "   weighted avg       0.37      0.42      0.36      1469\n",
      "\n"
     ]
    },
    {
     "name": "stderr",
     "output_type": "stream",
     "text": [
      "C:\\Users\\drawt\\AppData\\Local\\Packages\\PythonSoftwareFoundation.Python.3.10_qbz5n2kfra8p0\\LocalCache\\local-packages\\Python310\\site-packages\\sklearn\\metrics\\_classification.py:1344: UndefinedMetricWarning: Precision and F-score are ill-defined and being set to 0.0 in labels with no predicted samples. Use `zero_division` parameter to control this behavior.\n",
      "  _warn_prf(average, modifier, msg_start, len(result))\n",
      "C:\\Users\\drawt\\AppData\\Local\\Packages\\PythonSoftwareFoundation.Python.3.10_qbz5n2kfra8p0\\LocalCache\\local-packages\\Python310\\site-packages\\sklearn\\metrics\\_classification.py:1344: UndefinedMetricWarning: Precision and F-score are ill-defined and being set to 0.0 in labels with no predicted samples. Use `zero_division` parameter to control this behavior.\n",
      "  _warn_prf(average, modifier, msg_start, len(result))\n",
      "C:\\Users\\drawt\\AppData\\Local\\Packages\\PythonSoftwareFoundation.Python.3.10_qbz5n2kfra8p0\\LocalCache\\local-packages\\Python310\\site-packages\\sklearn\\metrics\\_classification.py:1344: UndefinedMetricWarning: Precision and F-score are ill-defined and being set to 0.0 in labels with no predicted samples. Use `zero_division` parameter to control this behavior.\n",
      "  _warn_prf(average, modifier, msg_start, len(result))\n"
     ]
    }
   ],
   "source": [
    "model.evaluate(df_test)"
   ]
  },
  {
   "cell_type": "code",
   "execution_count": 17,
   "metadata": {},
   "outputs": [
    {
     "name": "stdout",
     "output_type": "stream",
     "text": [
      "#1\n",
      "﻿#1\n",
      "['(HOTEL#GENERAL, positive)']\n",
      "#2\n",
      "Ga giường không sạch, nhân viên quên dọn phòng một ngày.\n",
      "['(ROOMS#CLEANLINESS, negative)']\n",
      "#3\n",
      "Nv nhiệt tình, phòng ở sạch sẽ, tiện nghi, vị trí khá thuận tiện cho việc di chuyển đến các địa điểm ăn + chơi Phòng có gián\n",
      "['(LOCATION#GENERAL, positive)']\n",
      "#4\n",
      "Đi bộ ra biển gần, tiện đi lại Phòng view biển nhưng cửa sổ view biển khá bé\n",
      "['(LOCATION#GENERAL, positive)']\n",
      "#5\n",
      "Tất cả mọi thứ đều sạch sẽ, giường ngủ rất thoải mái. Không có quạt điện mà chỉ có điều hòa nên có chút bất tiện.\n",
      "['(HOTEL#COMFORT, positive)', '(ROOMS#GENERAL, negative)']\n",
      "#6\n",
      "Giường sạch sẽ, thoải mái, đầy đủ thiết bị cần thiết, ăn cũng trang bị sẵn nếu bạn lười Phòng tắm chưa chia được ko gian khô và ướt\n",
      "['(ROOMS#DESIGN&FEATURES, negative)']\n",
      "#7\n",
      "phòng ốc mới, sang trọng, giường thoải mái, sạch sẽ Chỗ để xe hơi chật chọi\n",
      "['(ROOMS#DESIGN&FEATURES, positive)']\n",
      "#8\n",
      "Khăn tắm cũ, dơ. Đồ dùng trong toilet là đồ sử dụng lại. Không phải đồ nguyên seal\n",
      "['(ROOMS#GENERAL, negative)', '(ROOM_AMENITIES#QUALITY, negative)', '(FOOD&DRINKS#GENERAL, negative)']\n",
      "#9\n",
      "Phòng đẹp , sạch sẽ và gần biển . Nhân viên dễ thương . Phòng không có view biển như lúc đặt , Tv hay mất cáp .\n",
      "['(ROOMS#DESIGN&FEATURES, positive)', '(HOTEL#GENERAL, positive)', '(ROOMS#DESIGN&FEATURES, negative)']\n",
      "#10\n",
      "Rộng rãi, sạch sẽ. Có chỗ trong phòng không bắt được wifi\n",
      "['(ROOMS#DESIGN&FEATURES, positive)', '(ROOMS#QUALITY, negative)']\n"
     ]
    }
   ],
   "source": [
    "textlist = data_trans.read_text_only('data_hotel_test.txt')\n",
    "for i in range(10):\n",
    "    print(f'#{i+1}')\n",
    "    text = textlist[i]\n",
    "    print(text)\n",
    "    print(str(model.detail_predict(text)))\n",
    "    "
   ]
  },
  {
   "attachments": {},
   "cell_type": "markdown",
   "metadata": {},
   "source": [
    "## Restaurant"
   ]
  },
  {
   "cell_type": "code",
   "execution_count": 19,
   "metadata": {},
   "outputs": [
    {
     "data": {
      "text/html": [
       "<div>\n",
       "<style scoped>\n",
       "    .dataframe tbody tr th:only-of-type {\n",
       "        vertical-align: middle;\n",
       "    }\n",
       "\n",
       "    .dataframe tbody tr th {\n",
       "        vertical-align: top;\n",
       "    }\n",
       "\n",
       "    .dataframe thead th {\n",
       "        text-align: right;\n",
       "    }\n",
       "</style>\n",
       "<table border=\"1\" class=\"dataframe\">\n",
       "  <thead>\n",
       "    <tr style=\"text-align: right;\">\n",
       "      <th></th>\n",
       "      <th>text</th>\n",
       "      <th>label</th>\n",
       "      <th>entity</th>\n",
       "      <th>attribute</th>\n",
       "    </tr>\n",
       "  </thead>\n",
       "  <tbody>\n",
       "    <tr>\n",
       "      <th>0</th>\n",
       "      <td>_ ảnh chụp từ hôm_qua  đi chơi với gia_đình và...</td>\n",
       "      <td>neutral</td>\n",
       "      <td>FOOD</td>\n",
       "      <td>STYLE&amp;OPTIONS</td>\n",
       "    </tr>\n",
       "    <tr>\n",
       "      <th>1</th>\n",
       "      <td>_ hôm_qua đi ăn trưa muộn  ai cũng đói hết nên...</td>\n",
       "      <td>neutral</td>\n",
       "      <td>FOOD</td>\n",
       "      <td>QUALITY</td>\n",
       "    </tr>\n",
       "    <tr>\n",
       "      <th>2</th>\n",
       "      <td>_hương vị thơm ngon  ăn cay cay rất thích  nêm...</td>\n",
       "      <td>positive</td>\n",
       "      <td>FOOD</td>\n",
       "      <td>QUALITY</td>\n",
       "    </tr>\n",
       "    <tr>\n",
       "      <th>3</th>\n",
       "      <td>ngoài_ra menu quán cũng nhiều món khác nhau th...</td>\n",
       "      <td>positive</td>\n",
       "      <td>FOOD</td>\n",
       "      <td>STYLE&amp;OPTIONS</td>\n",
       "    </tr>\n",
       "    <tr>\n",
       "      <th>4</th>\n",
       "      <td>khách của quán đông nên nhiều khi nhân_viên ph...</td>\n",
       "      <td>positive</td>\n",
       "      <td>AMBIENCE</td>\n",
       "      <td>GENERAL</td>\n",
       "    </tr>\n",
       "  </tbody>\n",
       "</table>\n",
       "</div>"
      ],
      "text/plain": [
       "                                                text     label    entity  \\\n",
       "0  _ ảnh chụp từ hôm_qua  đi chơi với gia_đình và...   neutral      FOOD   \n",
       "1  _ hôm_qua đi ăn trưa muộn  ai cũng đói hết nên...   neutral      FOOD   \n",
       "2  _hương vị thơm ngon  ăn cay cay rất thích  nêm...  positive      FOOD   \n",
       "3  ngoài_ra menu quán cũng nhiều món khác nhau th...  positive      FOOD   \n",
       "4  khách của quán đông nên nhiều khi nhân_viên ph...  positive  AMBIENCE   \n",
       "\n",
       "       attribute  \n",
       "0  STYLE&OPTIONS  \n",
       "1        QUALITY  \n",
       "2        QUALITY  \n",
       "3  STYLE&OPTIONS  \n",
       "4        GENERAL  "
      ]
     },
     "execution_count": 19,
     "metadata": {},
     "output_type": "execute_result"
    }
   ],
   "source": [
    "df_res = data_trans.load_to_df('data_Restaurant_train.txt')\n",
    "df_res.head(5)"
   ]
  },
  {
   "cell_type": "code",
   "execution_count": 20,
   "metadata": {},
   "outputs": [],
   "source": [
    "model_res = Aspect_nb_model()\n",
    "model_res.fit3layer(df_res)"
   ]
  },
  {
   "cell_type": "code",
   "execution_count": 22,
   "metadata": {},
   "outputs": [
    {
     "name": "stdout",
     "output_type": "stream",
     "text": [
      "              precision    recall  f1-score   support\n",
      "\n",
      "    negative       0.65      0.17      0.27       456\n",
      "     neutral       0.80      0.32      0.46      1169\n",
      "    positive       0.82      0.98      0.90      5362\n",
      "\n",
      "    accuracy                           0.82      6987\n",
      "   macro avg       0.76      0.49      0.54      6987\n",
      "weighted avg       0.81      0.82      0.78      6987\n",
      "\n",
      "              precision    recall  f1-score   support\n",
      "\n",
      "    AMBIENCE       0.59      0.36      0.44       535\n",
      "      DRINKS       0.58      0.08      0.13       185\n",
      "        FOOD       0.75      0.95      0.84      4676\n",
      "    LOCATION       0.73      0.35      0.48       274\n",
      "  RESTAURANT       0.65      0.33      0.44       840\n",
      "     SERVICE       0.64      0.19      0.30       477\n",
      "\n",
      "    accuracy                           0.73      6987\n",
      "   macro avg       0.66      0.38      0.44      6987\n",
      "weighted avg       0.71      0.73      0.69      6987\n",
      "\n",
      "               precision    recall  f1-score   support\n",
      "\n",
      "      GENERAL       0.65      0.67      0.66      1864\n",
      "MISCELLANEOUS       0.33      0.04      0.07        96\n",
      "       PRICES       0.72      0.41      0.52      1152\n",
      "      QUALITY       0.60      0.83      0.69      2359\n",
      "STYLE&OPTIONS       0.69      0.51      0.58      1516\n",
      "\n",
      "     accuracy                           0.64      6987\n",
      "    macro avg       0.60      0.49      0.51      6987\n",
      " weighted avg       0.65      0.64      0.62      6987\n",
      "\n"
     ]
    }
   ],
   "source": [
    "model_res.evaluate(df_res)"
   ]
  },
  {
   "cell_type": "code",
   "execution_count": 23,
   "metadata": {},
   "outputs": [],
   "source": [
    "df_rest_test = data_trans.load_to_df('data_Restaurant_test.txt')"
   ]
  },
  {
   "cell_type": "code",
   "execution_count": 24,
   "metadata": {},
   "outputs": [
    {
     "name": "stdout",
     "output_type": "stream",
     "text": [
      "              precision    recall  f1-score   support\n",
      "\n",
      "    negative       0.20      0.02      0.03       125\n",
      "     neutral       0.44      0.07      0.12       477\n",
      "    positive       0.71      0.98      0.82      1386\n",
      "\n",
      "    accuracy                           0.70      1988\n",
      "   macro avg       0.45      0.35      0.32      1988\n",
      "weighted avg       0.61      0.70      0.60      1988\n",
      "\n",
      "              precision    recall  f1-score   support\n",
      "\n",
      "    AMBIENCE       0.26      0.10      0.15       224\n",
      "      DRINKS       0.00      0.00      0.00       144\n",
      "        FOOD       0.53      0.88      0.66       981\n",
      "    LOCATION       0.53      0.14      0.23       166\n",
      "  RESTAURANT       0.25      0.15      0.18       340\n",
      "     SERVICE       0.40      0.06      0.10       133\n",
      "\n",
      "    accuracy                           0.49      1988\n",
      "   macro avg       0.33      0.22      0.22      1988\n",
      "weighted avg       0.40      0.49      0.40      1988\n",
      "\n",
      "               precision    recall  f1-score   support\n",
      "\n",
      "      GENERAL       0.48      0.58      0.52       707\n",
      "MISCELLANEOUS       0.00      0.00      0.00        96\n",
      "       PRICES       0.38      0.11      0.16       390\n",
      "      QUALITY       0.29      0.47      0.36       427\n",
      "STYLE&OPTIONS       0.26      0.23      0.25       368\n",
      "\n",
      "     accuracy                           0.37      1988\n",
      "    macro avg       0.28      0.28      0.26      1988\n",
      " weighted avg       0.36      0.37      0.34      1988\n",
      "\n"
     ]
    },
    {
     "name": "stderr",
     "output_type": "stream",
     "text": [
      "C:\\Users\\drawt\\AppData\\Local\\Packages\\PythonSoftwareFoundation.Python.3.10_qbz5n2kfra8p0\\LocalCache\\local-packages\\Python310\\site-packages\\sklearn\\metrics\\_classification.py:1344: UndefinedMetricWarning: Precision and F-score are ill-defined and being set to 0.0 in labels with no predicted samples. Use `zero_division` parameter to control this behavior.\n",
      "  _warn_prf(average, modifier, msg_start, len(result))\n",
      "C:\\Users\\drawt\\AppData\\Local\\Packages\\PythonSoftwareFoundation.Python.3.10_qbz5n2kfra8p0\\LocalCache\\local-packages\\Python310\\site-packages\\sklearn\\metrics\\_classification.py:1344: UndefinedMetricWarning: Precision and F-score are ill-defined and being set to 0.0 in labels with no predicted samples. Use `zero_division` parameter to control this behavior.\n",
      "  _warn_prf(average, modifier, msg_start, len(result))\n",
      "C:\\Users\\drawt\\AppData\\Local\\Packages\\PythonSoftwareFoundation.Python.3.10_qbz5n2kfra8p0\\LocalCache\\local-packages\\Python310\\site-packages\\sklearn\\metrics\\_classification.py:1344: UndefinedMetricWarning: Precision and F-score are ill-defined and being set to 0.0 in labels with no predicted samples. Use `zero_division` parameter to control this behavior.\n",
      "  _warn_prf(average, modifier, msg_start, len(result))\n"
     ]
    }
   ],
   "source": [
    "model_res.evaluate(df_rest_test)"
   ]
  },
  {
   "cell_type": "code",
   "execution_count": 25,
   "metadata": {},
   "outputs": [
    {
     "name": "stdout",
     "output_type": "stream",
     "text": [
      "#1\n",
      "﻿#1\n",
      "['(FOOD#QUALITY, positive)']\n",
      "#2\n",
      "Đây là 1 trong những quán mà mình thích vì vị trà đậm và thơm cũng như mùi vị đặc trưng hơn hẳn những quán khác nè  Trà sữa trân châu sợi - 46k Trà sữa pha khá ngon, vị trà chát và mùi hương khá rõ, không quá ngọt, rất đúng với gu mình  Trà đào - 45k Vị trà đào ở đây cũng đặc biệt hơn hẳn những quán khác, không phải chua ngọt như thưởng thấy mà có mùi trà rất ngon  Cà phê đá xay - 65k Món đá xay ở đây uống cũng ngon không kém trà nè, mùi vị thơm hương cà phê, vị đắng kết hợp hoàn hảo với độ béo ngọt của whipping cream, không quá đắng, cũng không quá ngọt hay lạt lẽo mà dịu nhẹ, thơm và dễ uống lắm  Trà vải thiết quan âm - 45k Trà vải có mùi vị rất thơm ngon mùi vải mà vẫn nghe rõ vị trà, có chút vị chát nhẹ mùi trà thơm rất thích, không phải chỉ toàn vị syrup vải ngọt gắt như nhiều chỗ khác. Do trà ở đây pha khá đậm nên bạn nào uống mà đang đói sẽ dễ say nha, hoặc ban đêm có thể khó ngủ à, cảnh báo trước  Trà thiết quan âm latte - 47k Ly này thì vị trà rất đậm nên cảm giác hơi nhạt và chát, phần kem sữa bên trên béo béo uống chung thì vừa  Trà sữa 101 - 52k Ly này chụp ké chứ không có thử :v\n",
      "['(FOOD#QUALITY, positive)', '(FOOD#STYLE&OPTIONS, positive)']\n",
      "#3\n",
      "Bữa lướt facebook nhỏ bạn thấy có check-in ly trà sữa khổng lồ cùng viên phô mai to ú nụ. Mình bị hấp dẫn trong ngày từ cái nhìn đầu tiên nên đòi anh người yêu chở đi mua cho bằng được hihi. TRÀ SỮA 1ST TEA đ/c: 60D Nguyễn Thông, Q3 (ngay ngã 3 Kỳ Đồng và Nguyễn Thông) Mở cửa: 8h - 22h Facebook: 1ST TEA   Đây là ly size khổng lồ của quán. Dung tích theo mình nghĩ cỡ 1 lít chứ chẳng chơi. Hai đứa muốn ngập mặt tại chỗ.  Mình nói là ngon lắm nhưng không nghe. Tới khi ly trà sữa xuất hiện cùng 2 viên phô mai to ú nụ thì tranh giành check-in đầu tiên cho bằng được :))  Như mọi người thấy viên phô mai của quán to hơn bất kỳ quán nào khác. 1 viên theo mình nhớ giá chỉ có 9k thôi.  Với ly khổng lồ thì có mặc định sẵn có trân châu, muốn ăn thêm thạch khác có thể order thêm.  Mình tán mục sở thị viên phô mai cho mọi người thấy độ ú nụ dễ thương của em ấy. Việc múc bằng muỗng để múc phô mai khó lắm nha, to và nặng quá mà. Phô mai quán làm thơm vị sữa tươi và chút vị béo nhẹ. Ăn hoài không ngán. Ăn ngon tụi mình còn mua mỗi đứa thêm 1 viên nữa hihi. Noel không cần đi đâu quá xa, cứ như tụi mình làm ly trà sữa thơm ngon cùng viên phô mai tròn béo này là đủ hạnh phúc với 2 đứa rồi ahihi!\n",
      "['(FOOD#QUALITY, neutral)', '(FOOD#QUALITY, positive)', '(LOCATION#GENERAL, neutral)', '(FOOD#STYLE&OPTIONS, neutral)', '(FOOD#STYLE&OPTIONS, positive)', '(FOOD#QUALITY, positive)', '(FOOD#QUALITY, positive)', '(FOOD#PRICES, positive)', '(FOOD#STYLE&OPTIONS, positive)', '(FOOD#QUALITY, positive)', '(FOOD#QUALITY, positive)', '(FOOD#QUALITY, positive)', '(FOOD#QUALITY, positive)', '(FOOD#QUALITY, positive)', '(FOOD#QUALITY, positive)']\n",
      "#4\n",
      "Nghe phông phanh về trà sữa có viên phô mai to ú ù lâu rồi mà chưa có dịp đi thử. Thế là hôm qua cũng rảnh rỗi nên rủ tụi ‘cạ cứng’ đi uống thử. Đoán là viên phô mai chắc cũng to to, ai dè to thật, ăn một phát mà muốn ghiền luôn!  1st Tea 1st Tea trang trí chủ đạo là 3 tông màu trắng-xanh-vàng rất dễ thương Hình vẽ hoạt hình vui nhộn  … và dành hẳn cho bạn một góc chụp hình check-in   Menu quán khá đa dạng, phong phú, có các loại nước như: trà, trà sữa, macchiato, đá xay,… mà giá thì chỉ dao động từ 21K – 44K thôi. Tùy size, tùy loại nước uống mà bạn sẽ nhận được ly khác nhau, nhưng mà size nào thì ly cũng to cả Trà sữa phô mai ú ù – size M: 36K Mình thì mình ưng phô mai nên mình oder một ly trà sữa trân châu có viên phô mai bự-chà-bá. Thạch trân chân hoàng kim dai dai thơm thơm, trà sữa rất vừa uống. Matcha Macchiato – size M: 34K Việt quất phô mai đá xay – size S: 37K Nói là size S vậy thôi chứ ‘quất’ 1 ly thôi là no-cành-hông rồi đó. Nhóm tụi mình uống 4 ly mà chỉ có 143K thôi. Nhìn chung, so với mặt bằng chung trên thị trường trà sữa hiện nay thì giá như thế này là hợp lý lắm luôn! Mình với tụi bạn kết quán này lắm, cuối tuần tụ tập hoặc tấp vào trốn nắng một xíu thôi cũng thấy thoải mái rồi. Nhất định, mình sẽ ghé 1st Tea lần nữa, có ai đi với mình không ta?\n",
      "['(FOOD#GENERAL, positive)', '(RESTAURANT#QUALITY, positive)', '(FOOD#STYLE&OPTIONS, positive)', '(FOOD#STYLE&OPTIONS, positive)', '(FOOD#QUALITY, positive)', '(FOOD#QUALITY, positive)', '(FOOD#STYLE&OPTIONS, positive)', '(FOOD#PRICES, positive)', '(FOOD#STYLE&OPTIONS, positive)', '(FOOD#GENERAL, positive)', '(FOOD#GENERAL, positive)']\n",
      "#5\n",
      "Lại là mình tín đồ nghiện trà sữa đây, thấy quán trà sữa này có bán viên phô mai to ú nù nghe hấp dẫn quá chừng nên đi uống liền. Quán nằm ngay trung tâm giá cũng mềm, trang trí dễ thương, nhân viên nhiệt tình   Menu quán đơn giản chỉ vài món giá cũng rẻ so với mặt bằng trung tâm   Ly trà sữa 20k thêm phômai ú nù 15k  Phô mai ú nù siêu bự :)) thật ra như cục pudding hơn  Mùi béo thơm nhưng ko nghe mùi phômai đậm mà nghe mùi vani trứng, cũng ngon chứ ko dở  Trân châu hoàng kim 5k mềm thơm, vị trà sữa uống cũng được ko quá ngọt bình thường như những quán khác, nước nhiều đá ít nha  Trà đen macchiato 25k trà đậm ít đường ko ngọt lắm  Milkfoam bên trên ngon nè xài kem whipping đánh ra luôn nha, ngọt béo chứ ko phải mặn mình khá thích   Quán decor đơn giản tông vàng ấm áp Chúc các bạn ăn ngon miệng.\n",
      "['(FOOD#QUALITY, positive)', '(FOOD#QUALITY, positive)']\n",
      "#6\n",
      "Không gian quán sang trọng khá đẹp mang phong cách Châu Âu, giá cả lại khá rẻ và món ăn cũng rất ngon, các món ăn được trang trí nhìn rất hấp dẫn, nhân viên phục vụ rất tốt.\n",
      "['(FOOD#GENERAL, positive)']\n",
      "#7\n",
      "Không gian ở đây phải nói là tuyệt vời, decor rất đẹp, tạo cảm giác ấm áp, bạn nào thích chụp hình \"sống ảo\" cũng hợp gu luôn. Món ăn ngon, nhưng cũng chỉ mới thử qua vài món, lần sau đến sẽ gọi món khác xem như thế nào nữa.\n",
      "['(AMBIENCE#GENERAL, positive)', '(FOOD#GENERAL, positive)']\n",
      "#8\n",
      "Menu của nhà hàng cực đa dạng mà hầu như món nào cũng trang bị rất đẹp, hương vị nhẹ nhàng nhưng vẫn vừa miệng, không gian đẹp sang trọng rất phù hợp để hẹn hò, nhân viên phục vụ tốt. Tuy nhiên giá cả cũng có hơi cao 1 tý.\n",
      "['(AMBIENCE#GENERAL, positive)', '(FOOD#QUALITY, neutral)']\n",
      "#9\n",
      "Quán khá độc đáo với thiết kế nhìn rất cao cấp, trang trí theo phong cách châu âu, hương vị các món ăn ngon mà giá cả lại cực kỳ hợp lý nữa. Nhân viên cũng rất thân thiện và nhiệt tình.\n",
      "['(FOOD#GENERAL, positive)', '(FOOD#GENERAL, positive)']\n",
      "#10\n",
      "Tối nay bọn mình vừa ghé quán ăn. Đây là lần thứ hai, chất lượng ngon vẫn không đổi. Quán ở vỉa hè đường Phạm Văn Đồng rất thoáng mát. Mình gọi 2 tô mì hoành thánh xương 28k/tô. Mì hoành thánh không xương thì 22k/tô. Nước lèo rất ngon, mình ăn 2 lần nhưng không bị dị ứng vì bột ngọt nhiều. Đặc biệt mình rất thích mì và hoành thành ở đây. Mì được chú tự làm, rất dai, mềm và có độ beo béo mình rất thích. Hoành thánh chất lượng, ăn mình thấy có cả tôm nhỏ bên trong, vị vừa ăn, nhân nhiều, bột hoành thánh không bị bở, không bị sượng. Chú bán cũng dễ thương lắm, chú mới bán 2 tháng thôi, mà mở đúng tháng mưa nên không bán đắc lắm nên mình viết bài review mấy bạn đến ủng hộ chú nha :) giá hợp lý mà chất lượng lắm ý Quán nè, đầu đường 27, vừa chạy qua đường 25, qua cầu bộ hành nhìn bên phải là thấy ngay   Tô nay mình chụp lúc ăn mấy đũa rồi, lúc ăn ngon quá quên mất chụp hình lúc đầu =))) Ăn tô này là no bụng ngay ý   Mì nè, rất dai và ngon, beo béo nữa, ăn thích lắm   Mình chộp được mì ở trong xe của chú, nhìn hoành tráng gê ha   Hoành thành ngon, nhân thịt tôm vừa ăn lắm   Này là Xương, sườn các thể loại.\n",
      "['(FOOD#GENERAL, positive)', '(FOOD#QUALITY, positive)', '(AMBIENCE#GENERAL, positive)', '(FOOD#PRICES, positive)', '(FOOD#PRICES, positive)', '(FOOD#QUALITY, positive)', '(FOOD#QUALITY, positive)', '(FOOD#QUALITY, positive)', '(FOOD#QUALITY, positive)', '(FOOD#GENERAL, positive)']\n"
     ]
    }
   ],
   "source": [
    "textlist = data_trans.read_text_only('data_Restaurant_test.txt')\n",
    "for i in range(10):\n",
    "    print(f'#{i+1}')\n",
    "    text = textlist[i]\n",
    "    print(text)\n",
    "    print(str(model_res.detail_predict(text)))"
   ]
  }
 ],
 "metadata": {
  "kernelspec": {
   "display_name": "Python 3",
   "language": "python",
   "name": "python3"
  },
  "language_info": {
   "codemirror_mode": {
    "name": "ipython",
    "version": 3
   },
   "file_extension": ".py",
   "mimetype": "text/x-python",
   "name": "python",
   "nbconvert_exporter": "python",
   "pygments_lexer": "ipython3",
   "version": "3.10.11"
  },
  "orig_nbformat": 4
 },
 "nbformat": 4,
 "nbformat_minor": 2
}
